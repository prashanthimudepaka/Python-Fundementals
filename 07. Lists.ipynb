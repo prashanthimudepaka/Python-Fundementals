{
 "cells": [
  {
   "cell_type": "markdown",
   "metadata": {},
   "source": [
    "# Lists"
   ]
  },
  {
   "cell_type": "code",
   "execution_count": 1,
   "metadata": {},
   "outputs": [],
   "source": [
    "# Creating a list\n",
    "li = [\"apple\", \"banana\", \"mango\", 2]"
   ]
  },
  {
   "attachments": {},
   "cell_type": "markdown",
   "metadata": {},
   "source": [
    "## Operations in a List\n",
    "1. Accessing items\n",
    "2. Looping through lists\n",
    "3. Append\n",
    "4. Insert\n",
    "5. Extend\n",
    "6. Concatenation\n",
    "7. Copy of a List\n",
    "9. Sorting a List\n",
    "10. Replace\n",
    "11. Remove \n",
    "12. Pop\n",
    "13. Delete \n",
    "14. Clear\n",
    "15. Mathematical Operations\n",
    "\n",
    "### 1. Accessing Items"
   ]
  },
  {
   "cell_type": "code",
   "execution_count": 2,
   "metadata": {},
   "outputs": [
    {
     "name": "stdout",
     "output_type": "stream",
     "text": [
      "First Item: banana\n",
      "Last Item: 2\n",
      "Whole List: ['apple', 'banana', 'mango', 2]\n",
      "Reversed List: [2, 'mango', 'banana', 'apple']\n"
     ]
    }
   ],
   "source": [
    "# Accessing first item\n",
    "print(\"First Item:\",li[1])\n",
    "\n",
    "# Accessing last item\n",
    "print(\"Last Item:\", li[-1])\n",
    "\n",
    "# Accessing the whole list\n",
    "print(\"Whole List:\", li[:])\n",
    "\n",
    "# Reversing the list\n",
    "print (\"Reversed List:\", li[::-1])"
   ]
  },
  {
   "cell_type": "markdown",
   "metadata": {},
   "source": [
    "### 2. Loop through a List"
   ]
  },
  {
   "cell_type": "code",
   "execution_count": 3,
   "metadata": {},
   "outputs": [
    {
     "name": "stdout",
     "output_type": "stream",
     "text": [
      "apple\n",
      "banana\n",
      "mango\n",
      "2\n"
     ]
    }
   ],
   "source": [
    "# Method_1\n",
    "for i in li:\n",
    "    print(i)"
   ]
  },
  {
   "cell_type": "code",
   "execution_count": 4,
   "metadata": {},
   "outputs": [
    {
     "name": "stdout",
     "output_type": "stream",
     "text": [
      "apple\n",
      "banana\n",
      "mango\n",
      "2\n"
     ]
    }
   ],
   "source": [
    "# Method_2\n",
    "for i in range(len(li)):\n",
    "    print(li[i])"
   ]
  },
  {
   "cell_type": "markdown",
   "metadata": {},
   "source": [
    "### 3. Append \n",
    "Adds an item at the **end of a string**"
   ]
  },
  {
   "cell_type": "code",
   "execution_count": 5,
   "metadata": {},
   "outputs": [
    {
     "name": "stdout",
     "output_type": "stream",
     "text": [
      "['apple', 'banana', 'mango', 2, 'orange']\n"
     ]
    }
   ],
   "source": [
    "li = [\"apple\", \"banana\", \"mango\", 2]\n",
    "li.append(\"orange\")\n",
    "\n",
    "print(li)"
   ]
  },
  {
   "cell_type": "markdown",
   "metadata": {},
   "source": [
    "### 4. Insert\n",
    "Adds an item at a **specific position**"
   ]
  },
  {
   "cell_type": "code",
   "execution_count": 6,
   "metadata": {},
   "outputs": [
    {
     "name": "stdout",
     "output_type": "stream",
     "text": [
      "['apple', 'banana', 'orange', 'mango', 2]\n"
     ]
    }
   ],
   "source": [
    "li = [\"apple\", \"banana\", \"mango\", 2]\n",
    "li.insert(2,\"orange\")\n",
    "\n",
    "print(li)"
   ]
  },
  {
   "cell_type": "markdown",
   "metadata": {},
   "source": [
    "### 5. Extend\n",
    "Extends a list with a **list of other elements**"
   ]
  },
  {
   "cell_type": "code",
   "execution_count": 7,
   "metadata": {},
   "outputs": [
    {
     "name": "stdout",
     "output_type": "stream",
     "text": [
      "['apple', 'banana', 'mango', 2, 'good', 'hood']\n"
     ]
    }
   ],
   "source": [
    "li = [\"apple\", \"banana\", \"mango\", 2]\n",
    "li.extend([\"good\",\"hood\"])\n",
    "\n",
    "print(li)"
   ]
  },
  {
   "cell_type": "markdown",
   "metadata": {},
   "source": [
    "### ==> Difference b/w Append and Extend\n",
    "* Append ==> Adds a **single item** at the end ; syntax ==> append(element)\n",
    "* Extend ==>  Adds a **list of items** at the end ; syntax ==> append([element])"
   ]
  },
  {
   "cell_type": "code",
   "execution_count": 8,
   "metadata": {},
   "outputs": [
    {
     "name": "stdout",
     "output_type": "stream",
     "text": [
      "Append ==> [1, 2, 3, [4, 5]]\n",
      "Extend ==> [1, 2, 3, 4, 5]\n"
     ]
    }
   ],
   "source": [
    "# If a list of items are appended they are added as a single entity\n",
    "li = [1,2,3]\n",
    "li.append([4,5])\n",
    "print(\"Append ==>\",li)\n",
    "\n",
    "#  If a list of items are appended they are added as multiple entities\n",
    "li = [1,2,3]\n",
    "li.extend([4,5])\n",
    "print(\"Extend ==>\",li)"
   ]
  },
  {
   "cell_type": "code",
   "execution_count": 9,
   "metadata": {},
   "outputs": [
    {
     "name": "stdout",
     "output_type": "stream",
     "text": [
      "Append ==> [1, 2, 3, 4]\n",
      "Extend ==> [1, 2, 3, 4]\n"
     ]
    }
   ],
   "source": [
    "# For adding 1 item using Append\n",
    "li = [1,2,3]\n",
    "li.append(4)\n",
    "print(\"Append ==>\",li)\n",
    "\n",
    "# For adding 1 item using Extend\n",
    "li = [1,2,3]\n",
    "li.extend([4])\n",
    "print(\"Extend ==>\",li)"
   ]
  },
  {
   "cell_type": "code",
   "execution_count": 10,
   "metadata": {},
   "outputs": [
    {
     "name": "stdout",
     "output_type": "stream",
     "text": [
      "Append ==> [1, 2, 3, '45']\n",
      "Extend ==> [1, 2, 3, '4', '5']\n"
     ]
    }
   ],
   "source": [
    "# If a list is not passed for Append\n",
    "li = [1,2,3]\n",
    "li.append(\"45\")\n",
    "print(\"Append ==>\",li)\n",
    "\n",
    "# If a list is not passed for Extend\n",
    "li = [1,2,3]\n",
    "li.extend(\"45\")\n",
    "print(\"Extend ==>\",li)"
   ]
  },
  {
   "cell_type": "markdown",
   "metadata": {},
   "source": [
    "### 6. Concatenation"
   ]
  },
  {
   "cell_type": "code",
   "execution_count": 11,
   "metadata": {},
   "outputs": [
    {
     "name": "stdout",
     "output_type": "stream",
     "text": [
      "[1, 2, 3, 4, 5, 'apple']\n"
     ]
    }
   ],
   "source": [
    "list1 = [1,2,3]\n",
    "list2 = [4,5,\"apple\"]\n",
    "\n",
    "print(list1 + list2)"
   ]
  },
  {
   "cell_type": "markdown",
   "metadata": {},
   "source": [
    "### 7. Copy of a List"
   ]
  },
  {
   "cell_type": "code",
   "execution_count": 12,
   "metadata": {},
   "outputs": [
    {
     "name": "stdout",
     "output_type": "stream",
     "text": [
      "['apple', 'banana', 'mango', 2, 'ooo']\n",
      "['apple', 'banana', 'mango', 2, 'ooo']\n"
     ]
    }
   ],
   "source": [
    "# A list can't be copied simply by list1 = list2 as then any changes made to list1 is reflected in list2\n",
    "\n",
    "list1 = [\"apple\", \"banana\", \"mango\", 2]\n",
    "list2 = list1\n",
    "list1.append(\"ooo\")\n",
    "\n",
    "print(list1)\n",
    "print(list2)"
   ]
  },
  {
   "cell_type": "code",
   "execution_count": 13,
   "metadata": {},
   "outputs": [
    {
     "name": "stdout",
     "output_type": "stream",
     "text": [
      "Method_1\n",
      "['apple', 'banana', 'mango', 2, 'ooo']\n",
      "['apple', 'banana', 'mango', 2]\n",
      "\n",
      "Method_2\n",
      "['apple', 'banana', 'mango', 2, 'ooo']\n",
      "['apple', 'banana', 'mango', 2]\n",
      "\n",
      "Method_3\n",
      "['apple', 'banana', 'mango', 2, 'ooo']\n",
      "['apple', 'banana', 'mango', 2]\n"
     ]
    }
   ],
   "source": [
    "# Following methods can be adopted to copy a list\n",
    "\n",
    "# Method_1\n",
    "print(\"Method_1\")\n",
    "list1 = [\"apple\", \"banana\", \"mango\", 2]\n",
    "list2 = list1.copy()\n",
    "list1.append(\"ooo\")\n",
    "print(list1)\n",
    "print(list2)\n",
    "\n",
    "# Method_2\n",
    "print(\"\\nMethod_2\")\n",
    "list1 = [\"apple\", \"banana\", \"mango\", 2]\n",
    "list2 = list(list1)\n",
    "list1.append(\"ooo\")\n",
    "print(list1)\n",
    "print(list2)\n",
    "\n",
    "# Method_3\n",
    "print(\"\\nMethod_3\")\n",
    "list1 = [\"apple\", \"banana\", \"mango\", 2]\n",
    "list2 = list1[:]\n",
    "list1.append(\"ooo\")\n",
    "print(list1)\n",
    "print(list2)"
   ]
  },
  {
   "cell_type": "markdown",
   "metadata": {},
   "source": [
    "### 8. Sort\n",
    "Used to sort elements in **ascending / descending** order"
   ]
  },
  {
   "cell_type": "code",
   "execution_count": 14,
   "metadata": {},
   "outputs": [
    {
     "name": "stdout",
     "output_type": "stream",
     "text": [
      "[1, 2, 3]\n",
      "['a', 'b', 'c']\n"
     ]
    }
   ],
   "source": [
    "# Ascending Order\n",
    "\n",
    "list1 = [1,2,3]\n",
    "list2 = [\"a\",\"b\",\"c\"]\n",
    "list1.sort()\n",
    "list2.sort()\n",
    "\n",
    "print(list1)\n",
    "print(list2)"
   ]
  },
  {
   "cell_type": "code",
   "execution_count": 15,
   "metadata": {},
   "outputs": [
    {
     "name": "stdout",
     "output_type": "stream",
     "text": [
      "[3, 2, 1]\n",
      "['c', 'b', 'a']\n"
     ]
    }
   ],
   "source": [
    "# Descending Order\n",
    "\n",
    "list1 = [1,2,3]\n",
    "list2 = [\"a\",\"b\",\"c\"]\n",
    "list1.sort(reverse = True)\n",
    "list2.sort(reverse = True)\n",
    "\n",
    "print(list1)\n",
    "print(list2)"
   ]
  },
  {
   "cell_type": "markdown",
   "metadata": {},
   "source": [
    "### ==> Sort vs Sorted\n",
    "* Sort ==> Sorts the original List\n",
    "* Sorted ==> The original List is not changed"
   ]
  },
  {
   "cell_type": "code",
   "execution_count": 16,
   "metadata": {},
   "outputs": [
    {
     "name": "stdout",
     "output_type": "stream",
     "text": [
      "List1: [1, 2, 3]\n",
      "List2: [3, 2, 1]\n"
     ]
    }
   ],
   "source": [
    "# Sorted Method ==> It keeps original list intact and creates a sorted list assigned to another variable\n",
    "\n",
    "list1 = [1,2,3]\n",
    "list2 = sorted(list1, reverse = True)\n",
    "\n",
    "print(\"List1:\",list1)\n",
    "print(\"List2:\",list2)"
   ]
  },
  {
   "cell_type": "markdown",
   "metadata": {},
   "source": [
    "### 9. Replace\n",
    "**Replaces** the element in the specified term with the specified element"
   ]
  },
  {
   "cell_type": "code",
   "execution_count": 17,
   "metadata": {},
   "outputs": [
    {
     "name": "stdout",
     "output_type": "stream",
     "text": [
      "['cherry', 'banana', 'mango', 2]\n"
     ]
    }
   ],
   "source": [
    "li = [\"apple\", \"banana\", \"mango\", 2]\n",
    "li[0] = \"cherry\"\n",
    "\n",
    "print(li)"
   ]
  },
  {
   "cell_type": "markdown",
   "metadata": {},
   "source": [
    "### 10. Remove()\n",
    "* **Removes** specified keyword\n",
    "* Takes only **one argument** i.e. only 1 item can be removed at a time"
   ]
  },
  {
   "cell_type": "code",
   "execution_count": 18,
   "metadata": {},
   "outputs": [
    {
     "name": "stdout",
     "output_type": "stream",
     "text": [
      "['apple', 'mango', 2]\n"
     ]
    }
   ],
   "source": [
    "li = [\"apple\", \"banana\", \"mango\", 2]\n",
    "li.remove(\"banana\")\n",
    "\n",
    "print(li)"
   ]
  },
  {
   "cell_type": "code",
   "execution_count": 19,
   "metadata": {},
   "outputs": [
    {
     "name": "stdout",
     "output_type": "stream",
     "text": [
      "['apple', 'mango', 'banana', 2]\n"
     ]
    }
   ],
   "source": [
    "# Removes only First Occurance of a value incase of repetition\n",
    "\n",
    "li = [\"apple\", \"banana\", \"mango\", \"banana\", 2]\n",
    "li.remove(\"banana\")\n",
    "\n",
    "print(li)"
   ]
  },
  {
   "cell_type": "markdown",
   "metadata": {},
   "source": [
    "### 11. Pop()\n",
    "* **Removes** items **from the specified index** \n",
    "* If index is not mentioned, it removes last item\n",
    "* Removed item **can** also be accessed."
   ]
  },
  {
   "cell_type": "code",
   "execution_count": 20,
   "metadata": {},
   "outputs": [
    {
     "name": "stdout",
     "output_type": "stream",
     "text": [
      "Removed item: apple\n",
      "Updated List: ['banana', 'mango', 2]\n"
     ]
    }
   ],
   "source": [
    "li = [\"apple\", \"banana\", \"mango\", 2]\n",
    "removed = li.pop(0)\n",
    "\n",
    "print(\"Removed item:\", removed)\n",
    "print(\"Updated List:\", li)"
   ]
  },
  {
   "cell_type": "code",
   "execution_count": 21,
   "metadata": {},
   "outputs": [
    {
     "name": "stdout",
     "output_type": "stream",
     "text": [
      "Removed item: 2\n",
      "Updated List: ['apple', 'banana', 'mango']\n"
     ]
    }
   ],
   "source": [
    "# If index isn't mentioned, removes last item\n",
    "\n",
    "li = [\"apple\", \"banana\", \"mango\", 2]\n",
    "removed = li.pop()\n",
    "\n",
    "print(\"Removed item:\", removed)\n",
    "print(\"Updated List:\", li)"
   ]
  },
  {
   "cell_type": "markdown",
   "metadata": {},
   "source": [
    "### 12. Del() \n",
    "* **Removes** items from the **specified index** \n",
    "* If index isn't mentioned, deletes the entire list\n",
    "* Removed item **can not** be accessed"
   ]
  },
  {
   "cell_type": "code",
   "execution_count": 22,
   "metadata": {},
   "outputs": [
    {
     "name": "stdout",
     "output_type": "stream",
     "text": [
      "['banana', 'mango', 2]\n"
     ]
    }
   ],
   "source": [
    "li = [\"apple\", \"banana\", \"mango\", 2]\n",
    "del(li[0])\n",
    "\n",
    "print(li)"
   ]
  },
  {
   "cell_type": "code",
   "execution_count": 23,
   "metadata": {},
   "outputs": [
    {
     "ename": "NameError",
     "evalue": "name 'li' is not defined",
     "output_type": "error",
     "traceback": [
      "\u001b[1;31m---------------------------------------------------------------------------\u001b[0m",
      "\u001b[1;31mNameError\u001b[0m                                 Traceback (most recent call last)",
      "\u001b[1;32mC:\\Users\\PURBAY~1\\AppData\\Local\\Temp/ipykernel_10356/3784133716.py\u001b[0m in \u001b[0;36m<module>\u001b[1;34m\u001b[0m\n\u001b[0;32m      4\u001b[0m \u001b[1;32mdel\u001b[0m\u001b[1;33m(\u001b[0m\u001b[0mli\u001b[0m\u001b[1;33m)\u001b[0m\u001b[1;33m\u001b[0m\u001b[1;33m\u001b[0m\u001b[0m\n\u001b[0;32m      5\u001b[0m \u001b[1;33m\u001b[0m\u001b[0m\n\u001b[1;32m----> 6\u001b[1;33m \u001b[0mprint\u001b[0m\u001b[1;33m(\u001b[0m\u001b[0mli\u001b[0m\u001b[1;33m)\u001b[0m\u001b[1;33m\u001b[0m\u001b[1;33m\u001b[0m\u001b[0m\n\u001b[0m",
      "\u001b[1;31mNameError\u001b[0m: name 'li' is not defined"
     ]
    }
   ],
   "source": [
    "# If index isn't mentioned, deletes the entire list\n",
    "\n",
    "li = [\"apple\", \"banana\", \"mango\", 2]\n",
    "del(li)\n",
    "\n",
    "print(li)"
   ]
  },
  {
   "cell_type": "markdown",
   "metadata": {},
   "source": [
    "### 13. Clear()\n",
    "**Clears** the entire list"
   ]
  },
  {
   "cell_type": "code",
   "execution_count": 24,
   "metadata": {},
   "outputs": [
    {
     "name": "stdout",
     "output_type": "stream",
     "text": [
      "[]\n"
     ]
    }
   ],
   "source": [
    "li = [\"apple\", \"banana\", \"mango\", 2]\n",
    "li.clear()\n",
    "\n",
    "print(li)"
   ]
  },
  {
   "cell_type": "markdown",
   "metadata": {},
   "source": [
    "### 14. Mathematical Operations"
   ]
  },
  {
   "cell_type": "code",
   "execution_count": 25,
   "metadata": {},
   "outputs": [
    {
     "name": "stdout",
     "output_type": "stream",
     "text": [
      "Sum: 10\n",
      "Max: 4\n",
      "Min: 1\n"
     ]
    }
   ],
   "source": [
    "li = [1,2,3,4]\n",
    "\n",
    "# Sum\n",
    "print(\"Sum:\",sum(li))\n",
    "\n",
    "# Max\n",
    "print(\"Max:\", max(li))\n",
    "\n",
    "# Min\n",
    "print(\"Min:\", min(li))"
   ]
  }
 ],
 "metadata": {
  "kernelspec": {
   "display_name": "Python 3 (ipykernel)",
   "language": "python",
   "name": "python3"
  },
  "language_info": {
   "codemirror_mode": {
    "name": "ipython",
    "version": 3
   },
   "file_extension": ".py",
   "mimetype": "text/x-python",
   "name": "python",
   "nbconvert_exporter": "python",
   "pygments_lexer": "ipython3",
   "version": "3.9.7"
  }
 },
 "nbformat": 4,
 "nbformat_minor": 2
}
