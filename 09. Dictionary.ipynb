{
 "cells": [
  {
   "cell_type": "markdown",
   "metadata": {},
   "source": [
    "# Dictionary"
   ]
  },
  {
   "cell_type": "code",
   "execution_count": 1,
   "metadata": {},
   "outputs": [],
   "source": [
    "# Creating a dictionary\n",
    "d = {\"brand\" : \"Ford\", 2 : \"Mustang\", \"year\" : 1964}"
   ]
  },
  {
   "cell_type": "markdown",
   "metadata": {},
   "source": [
    "## Operations in a Dictionary\n",
    "1. Accessing items\n",
    "2. Accessing Keys, Values, Both\n",
    "3. Looping through dictionaries\n",
    "4. Add\n",
    "5. Copy of a Dictionary\n",
    "6. Replace\n",
    "7. Update\n",
    "8. Pop & Pop-item\n",
    "9. Delete \n",
    "10. Clear\n",
    "\n",
    "### 1. Accessing Items\n",
    "Items are accessed by referring to key name"
   ]
  },
  {
   "cell_type": "code",
   "execution_count": 2,
   "metadata": {},
   "outputs": [
    {
     "name": "stdout",
     "output_type": "stream",
     "text": [
      "1964\n",
      "1964\n"
     ]
    }
   ],
   "source": [
    "# Method_1\n",
    "x = d[\"year\"]\n",
    "print(x)\n",
    "\n",
    "# Method_2\n",
    "x = d.get(\"year\")\n",
    "print(x)"
   ]
  },
  {
   "cell_type": "code",
   "execution_count": 3,
   "metadata": {},
   "outputs": [
    {
     "name": "stdout",
     "output_type": "stream",
     "text": [
      "None\n"
     ]
    },
    {
     "ename": "KeyError",
     "evalue": "'color'",
     "output_type": "error",
     "traceback": [
      "\u001b[1;31m---------------------------------------------------------------------------\u001b[0m",
      "\u001b[1;31mKeyError\u001b[0m                                  Traceback (most recent call last)",
      "\u001b[1;32mC:\\Users\\PURBAY~1\\AppData\\Local\\Temp/ipykernel_10332/2419884895.py\u001b[0m in \u001b[0;36m<module>\u001b[1;34m\u001b[0m\n\u001b[0;32m      6\u001b[0m \u001b[0mprint\u001b[0m\u001b[1;33m(\u001b[0m\u001b[0my\u001b[0m\u001b[1;33m)\u001b[0m\u001b[1;33m\u001b[0m\u001b[1;33m\u001b[0m\u001b[0m\n\u001b[0;32m      7\u001b[0m \u001b[1;33m\u001b[0m\u001b[0m\n\u001b[1;32m----> 8\u001b[1;33m \u001b[0my\u001b[0m \u001b[1;33m=\u001b[0m \u001b[0md\u001b[0m\u001b[1;33m[\u001b[0m\u001b[1;34m\"color\"\u001b[0m\u001b[1;33m]\u001b[0m\u001b[1;33m\u001b[0m\u001b[1;33m\u001b[0m\u001b[0m\n\u001b[0m\u001b[0;32m      9\u001b[0m \u001b[0mprint\u001b[0m\u001b[1;33m(\u001b[0m\u001b[0my\u001b[0m\u001b[1;33m)\u001b[0m\u001b[1;33m\u001b[0m\u001b[1;33m\u001b[0m\u001b[0m\n",
      "\u001b[1;31mKeyError\u001b[0m: 'color'"
     ]
    }
   ],
   "source": [
    "#If the used key is not present\n",
    "## d.get(key) ==> will give None\n",
    "## d[key] ==> will throw an error\n",
    "\n",
    "y = d.get(\"color\")\n",
    "print(y)\n",
    "\n",
    "y = d[\"color\"]\n",
    "print(y)"
   ]
  },
  {
   "cell_type": "markdown",
   "metadata": {},
   "source": [
    "### 2. Accessing Keys, Values, Both"
   ]
  },
  {
   "cell_type": "code",
   "execution_count": 4,
   "metadata": {},
   "outputs": [
    {
     "name": "stdout",
     "output_type": "stream",
     "text": [
      "dict_keys(['brand', 2, 'year'])\n",
      "\n",
      "dict_values(['Ford', 'Mustang', 1964])\n",
      "\n",
      "dict_items([('brand', 'Ford'), (2, 'Mustang'), ('year', 1964)])\n"
     ]
    }
   ],
   "source": [
    "# Accessing Keys\n",
    "print(d.keys())\n",
    "print()\n",
    "\n",
    "# Accessing Values\n",
    "print(d.values())\n",
    "print()\n",
    "\n",
    "# Accessing Both\n",
    "print(d.items())"
   ]
  },
  {
   "cell_type": "markdown",
   "metadata": {},
   "source": [
    "### 3. Loop Through a Dictionary"
   ]
  },
  {
   "cell_type": "code",
   "execution_count": 5,
   "metadata": {},
   "outputs": [],
   "source": [
    "mydict = {\"brand\" : \"Ford\", 2 : \"Mustang\", \"year\" : 1964}"
   ]
  },
  {
   "cell_type": "code",
   "execution_count": 6,
   "metadata": {},
   "outputs": [
    {
     "name": "stdout",
     "output_type": "stream",
     "text": [
      "brand\n",
      "2\n",
      "year\n"
     ]
    }
   ],
   "source": [
    "# Printing all key-names\n",
    "\n",
    "for i in mydict:\n",
    "    print(i)"
   ]
  },
  {
   "cell_type": "code",
   "execution_count": 7,
   "metadata": {},
   "outputs": [
    {
     "name": "stdout",
     "output_type": "stream",
     "text": [
      "Ford\n",
      "Mustang\n",
      "1964\n"
     ]
    }
   ],
   "source": [
    "# Printing all value-names\n",
    "\n",
    "for i in mydict:\n",
    "    print(d[i])"
   ]
  },
  {
   "cell_type": "code",
   "execution_count": 8,
   "metadata": {},
   "outputs": [
    {
     "name": "stdout",
     "output_type": "stream",
     "text": [
      "brand Ford\n",
      "2 Mustang\n",
      "year 1964\n"
     ]
    }
   ],
   "source": [
    "# Printing both key-names & value-names\n",
    "\n",
    "for i,j in mydict.items():\n",
    "    print(i,j)"
   ]
  },
  {
   "cell_type": "markdown",
   "metadata": {},
   "source": [
    "### 4. Add \n",
    "Adds a single key-pair value"
   ]
  },
  {
   "cell_type": "code",
   "execution_count": 9,
   "metadata": {},
   "outputs": [
    {
     "name": "stdout",
     "output_type": "stream",
     "text": [
      "Original ==> {'brand': 'Ford', 2: 'Mustang', 'year': 1964}\n",
      "Added ==> {'brand': 'Ford', 2: 'Mustang', 'year': 1964, 'color': 'red'}\n"
     ]
    }
   ],
   "source": [
    "mydict = {\"brand\" : \"Ford\", 2 : \"Mustang\", \"year\" : 1964}\n",
    "print(\"Original ==>\", mydict)\n",
    "\n",
    "# Added\n",
    "mydict[\"color\"] = \"red\"\n",
    "print(\"Added ==>\", mydict)"
   ]
  },
  {
   "cell_type": "markdown",
   "metadata": {},
   "source": [
    "### 5. Copy \n",
    "* For similar reasons as that of **Lists** we **can't** do ==> dict2 = dict1\n",
    "* Instead we do ==> dict2 = dict(dict1)"
   ]
  },
  {
   "cell_type": "code",
   "execution_count": 10,
   "metadata": {},
   "outputs": [
    {
     "name": "stdout",
     "output_type": "stream",
     "text": [
      "{'brand': 'Ford', 2: 'Mustang', 'year': 1964}\n",
      "{'brand': 'Ford', 2: 'Mustang', 'year': 1964, 'red': 2}\n"
     ]
    }
   ],
   "source": [
    "dict1 = {\"brand\" : \"Ford\", 2 : \"Mustang\", \"year\" : 1964}\n",
    "dict2 = dict(dict1)\n",
    "\n",
    "# Changing dict1\n",
    "dict2[\"red\"] = 2\n",
    "\n",
    "print(dict1)\n",
    "print(dict2)"
   ]
  },
  {
   "cell_type": "markdown",
   "metadata": {},
   "source": [
    "### 6. Replace \n",
    "Used to replace the value of a particular key "
   ]
  },
  {
   "cell_type": "code",
   "execution_count": 11,
   "metadata": {},
   "outputs": [
    {
     "name": "stdout",
     "output_type": "stream",
     "text": [
      "Original ==> {'brand': 'Ford', 2: 'Mustang', 'year': 1964}\n",
      "Replaced ==> {'brand': 'Ford', 2: 'Mustang', 'year': 2020}\n"
     ]
    }
   ],
   "source": [
    "mydict = {\"brand\" : \"Ford\", 2 : \"Mustang\", \"year\" : 1964}\n",
    "print(\"Original ==>\", mydict)\n",
    "\n",
    "# Replaced\n",
    "mydict[\"year\"] = 2020\n",
    "print(\"Replaced ==>\", mydict)"
   ]
  },
  {
   "cell_type": "markdown",
   "metadata": {},
   "source": [
    "### 7. Update \n",
    "Replaces multiple key-pair values using dictionary"
   ]
  },
  {
   "cell_type": "code",
   "execution_count": 12,
   "metadata": {},
   "outputs": [
    {
     "name": "stdout",
     "output_type": "stream",
     "text": [
      "Original ==> {'brand': 'Ford', 2: 'Mustang', 'year': 1964}\n",
      "Updated ==> {'brand': 'BMW', 2: 'Lambo', 'year': 1964}\n"
     ]
    }
   ],
   "source": [
    "mydict = {\"brand\" : \"Ford\", 2 : \"Mustang\", \"year\" : 1964}\n",
    "print(\"Original ==>\", mydict)\n",
    "\n",
    "# Updated\n",
    "mydict.update({\"brand\":\"BMW\", 2:\"Lambo\"})\n",
    "print(\"Updated ==>\", mydict)"
   ]
  },
  {
   "cell_type": "markdown",
   "metadata": {},
   "source": [
    "### 8. Pop() & Popitem()\n",
    "* Pop() ==> Removes items with specified key-name [Takes the key as argument which needs to be removed]\n",
    "* Popitem() ==> Removes last item [Don't take any argument]"
   ]
  },
  {
   "cell_type": "code",
   "execution_count": 13,
   "metadata": {},
   "outputs": [
    {
     "name": "stdout",
     "output_type": "stream",
     "text": [
      "Pop() ==> {2: 'Mustang', 'year': 1964}\n",
      "Popitem() ==> {'brand': 'Ford', 2: 'Mustang'}\n"
     ]
    }
   ],
   "source": [
    "# Pop\n",
    "mydict = {\"brand\" : \"Ford\", 2 : \"Mustang\", \"year\" : 1964}\n",
    "mydict.pop(\"brand\")\n",
    "print(\"Pop() ==>\",mydict)\n",
    "\n",
    "# Popitem\n",
    "mydict = {\"brand\" : \"Ford\", 2 : \"Mustang\", \"year\" : 1964}\n",
    "mydict.popitem()\n",
    "print(\"Popitem() ==>\",mydict)"
   ]
  },
  {
   "cell_type": "markdown",
   "metadata": {},
   "source": [
    "### 9. Del"
   ]
  },
  {
   "cell_type": "code",
   "execution_count": 14,
   "metadata": {},
   "outputs": [
    {
     "name": "stdout",
     "output_type": "stream",
     "text": [
      "{'brand': 'Ford', 2: 'Mustang'}\n"
     ]
    }
   ],
   "source": [
    "# Del ==> deletes items with specified keyname\n",
    "\n",
    "mydict = {\"brand\" : \"Ford\", 2 : \"Mustang\", \"year\" : 1964}\n",
    "del mydict[\"year\"]\n",
    "\n",
    "print(mydict)"
   ]
  },
  {
   "cell_type": "code",
   "execution_count": 15,
   "metadata": {},
   "outputs": [
    {
     "ename": "NameError",
     "evalue": "name 'mydict' is not defined",
     "output_type": "error",
     "traceback": [
      "\u001b[1;31m---------------------------------------------------------------------------\u001b[0m",
      "\u001b[1;31mNameError\u001b[0m                                 Traceback (most recent call last)",
      "\u001b[1;32mC:\\Users\\PURBAY~1\\AppData\\Local\\Temp/ipykernel_10332/3966705405.py\u001b[0m in \u001b[0;36m<module>\u001b[1;34m\u001b[0m\n\u001b[0;32m      4\u001b[0m \u001b[1;32mdel\u001b[0m \u001b[0mmydict\u001b[0m\u001b[1;33m\u001b[0m\u001b[1;33m\u001b[0m\u001b[0m\n\u001b[0;32m      5\u001b[0m \u001b[1;33m\u001b[0m\u001b[0m\n\u001b[1;32m----> 6\u001b[1;33m \u001b[0mprint\u001b[0m\u001b[1;33m(\u001b[0m\u001b[0mmydict\u001b[0m\u001b[1;33m)\u001b[0m\u001b[1;33m\u001b[0m\u001b[1;33m\u001b[0m\u001b[0m\n\u001b[0m",
      "\u001b[1;31mNameError\u001b[0m: name 'mydict' is not defined"
     ]
    }
   ],
   "source": [
    "# If no keyname is specified, deletes the entire dictionary \n",
    "\n",
    "mydict = {\"brand\" : \"Ford\", 2 : \"Mustang\", \"year\" : 1964}\n",
    "del mydict\n",
    "\n",
    "print(mydict)"
   ]
  },
  {
   "cell_type": "markdown",
   "metadata": {},
   "source": [
    "### 10. Clear \n",
    "Clears the entire dictionary"
   ]
  },
  {
   "cell_type": "code",
   "execution_count": 16,
   "metadata": {},
   "outputs": [
    {
     "name": "stdout",
     "output_type": "stream",
     "text": [
      "{}\n"
     ]
    }
   ],
   "source": [
    "mydict = {\"brand\" : \"Ford\", 2 : \"Mustang\", \"year\" : 1964}\n",
    "mydict.clear()\n",
    "\n",
    "print(mydict)"
   ]
  },
  {
   "cell_type": "markdown",
   "metadata": {},
   "source": [
    "## Q)  Given the following nested dictionary:\n",
    "{'Ram': {'Maths': 75, 'Science': 80, 'English': 78},                                                                                \n",
    "'Shyam': {'Maths': 60, 'Science': 65, 'English': 70},                                                                                   \n",
    "'Mohan': {'Maths': 80, 'Science': 50, 'English': 68}}                                                                                  \n",
    "\n",
    "### Write a code to print the output so that it appears as follows:                                                                                    \n",
    "Name of the students: Ram                                                                                                       \n",
    "Maths : 75                                                                                                                     \n",
    "Science : 80                                                                                                                    \n",
    "English : 78                                                                                                                      \n",
    "Name of the students: Shyam                                                                                                              \n",
    "Maths : 60                                                                                                                                   \n",
    "Science : 65                                                                                                                          \n",
    "English : 70                                                                                                                          \n",
    "Name of the students: Mohan                                                                                                         \n",
    "Maths : 80                                                                                                                                \n",
    "Science : 50                                                                                                                         \n",
    "English : 68"
   ]
  },
  {
   "cell_type": "code",
   "execution_count": 17,
   "metadata": {},
   "outputs": [
    {
     "data": {
      "text/plain": [
       "{'Ram': {'Maths': 75, 'Science': 80, 'English': 78},\n",
       " 'Shyam': {'Maths': 60, 'Science': 65, 'English': 70},\n",
       " 'Mohan': {'Maths': 80, 'Science': 50, 'English': 68}}"
      ]
     },
     "execution_count": 17,
     "metadata": {},
     "output_type": "execute_result"
    }
   ],
   "source": [
    "## Given Nested Dictionary\n",
    "\n",
    "students_marks={'Ram':{\"Maths\":75,\"Science\":80,\"English\":78},\n",
    "                 \"Shyam\":{\"Maths\":60,\"Science\":65,\"English\":70},\n",
    "                  \"Mohan\":{\"Maths\":80,\"Science\":50,\"English\":68}}\n",
    "\n",
    "students_marks"
   ]
  },
  {
   "cell_type": "code",
   "execution_count": 18,
   "metadata": {},
   "outputs": [
    {
     "name": "stdout",
     "output_type": "stream",
     "text": [
      "Name of the students: Ram\n",
      "Maths : 75\n",
      "Science : 80\n",
      "English : 78\n",
      "Name of the students: Shyam\n",
      "Maths : 60\n",
      "Science : 65\n",
      "English : 70\n",
      "Name of the students: Mohan\n",
      "Maths : 80\n",
      "Science : 50\n",
      "English : 68\n"
     ]
    }
   ],
   "source": [
    "## Solution\n",
    "\n",
    "for i,j in students_marks.items():\n",
    "    print(\"Name of the students:\", i)\n",
    "    for sub,marks in j.items():\n",
    "        print(f\"{sub} : {marks}\")"
   ]
  }
 ],
 "metadata": {
  "kernelspec": {
   "display_name": "Python 3 (ipykernel)",
   "language": "python",
   "name": "python3"
  },
  "language_info": {
   "codemirror_mode": {
    "name": "ipython",
    "version": 3
   },
   "file_extension": ".py",
   "mimetype": "text/x-python",
   "name": "python",
   "nbconvert_exporter": "python",
   "pygments_lexer": "ipython3",
   "version": "3.9.7"
  }
 },
 "nbformat": 4,
 "nbformat_minor": 2
}
