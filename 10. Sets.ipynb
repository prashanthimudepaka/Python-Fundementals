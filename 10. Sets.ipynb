{
 "cells": [
  {
   "cell_type": "markdown",
   "metadata": {},
   "source": [
    "# Sets"
   ]
  },
  {
   "cell_type": "code",
   "execution_count": 1,
   "metadata": {},
   "outputs": [],
   "source": [
    "# Creating a set\n",
    "s = {\"apple\", \"banana\", \"mango\", 2}"
   ]
  },
  {
   "attachments": {},
   "cell_type": "markdown",
   "metadata": {},
   "source": [
    "## Operations in a Set\n",
    "1. **Accessing items**\n",
    "\n",
    "\n",
    "2. **Changing items** \n",
    "    * Add\n",
    "    * Update\n",
    "\n",
    "\n",
    "3. **Set Operations**\n",
    "    * Union\n",
    "    * Intersection\n",
    "    * Difference\n",
    "\n",
    "\n",
    "4. **Remove Methods**\n",
    "    * Pop\n",
    "    * Remove\n",
    "    * Discard\n",
    "    * Clear\n",
    "\n",
    "\n",
    "5. **Mathematical Operations**\n",
    "\n",
    "### 1. Accessing Items\n",
    "* Sets are unordered, therefore it is not possible to access items using index numbers\n",
    "* Only method to access the items is to print all"
   ]
  },
  {
   "cell_type": "code",
   "execution_count": 2,
   "metadata": {},
   "outputs": [
    {
     "name": "stdout",
     "output_type": "stream",
     "text": [
      "2\n",
      "apple\n",
      "banana\n",
      "mango\n"
     ]
    }
   ],
   "source": [
    "for i in s:\n",
    "    print(i)"
   ]
  },
  {
   "cell_type": "markdown",
   "metadata": {},
   "source": [
    "### 2. Changing Items\n",
    "* Once a Set is created, you can't replace any item. But you can add new items\n",
    "* There are mainly 2 ways of changing items in a Set:\n",
    "    1. add()\n",
    "    2. update()"
   ]
  },
  {
   "cell_type": "code",
   "execution_count": 3,
   "metadata": {},
   "outputs": [
    {
     "name": "stdout",
     "output_type": "stream",
     "text": [
      "{2, 'cherry', 'apple', 'mango', 'banana'}\n"
     ]
    }
   ],
   "source": [
    "# To add 1 item ==> add()\n",
    "\n",
    "s = {\"apple\", \"banana\", \"mango\", 2}\n",
    "s.add(\"cherry\")\n",
    "\n",
    "print(s)"
   ]
  },
  {
   "cell_type": "code",
   "execution_count": 4,
   "metadata": {},
   "outputs": [
    {
     "name": "stdout",
     "output_type": "stream",
     "text": [
      "{2, 'mango', 'hood', 'cherry', 'good', 'apple', 'banana'}\n"
     ]
    }
   ],
   "source": [
    "# To add multiple items ==> update()\n",
    "\n",
    "s = {\"apple\", \"banana\", \"mango\", 2}\n",
    "s.update({\"cherry\", \"good\", \"hood\"})\n",
    "\n",
    "print(s)"
   ]
  },
  {
   "cell_type": "markdown",
   "metadata": {},
   "source": [
    "### 3. Set Operations"
   ]
  },
  {
   "cell_type": "code",
   "execution_count": 5,
   "metadata": {},
   "outputs": [
    {
     "name": "stdout",
     "output_type": "stream",
     "text": [
      "Union Methods\n",
      "s1 U s2: {1, 2, 'd', 'c', 'a'}\n",
      "s1 U s2: {1, 2, 'd', 'c', 'a'}\n",
      "\n",
      "Intersection Methods\n",
      "s1 ∩ s2: {1, 'd'}\n",
      "s1 ∩ s2: {1, 'd'}\n",
      "\n",
      "Difference Methods\n",
      "s1 - s2: {'c', 2}\n",
      "s1 - s2: {'c', 2}\n"
     ]
    }
   ],
   "source": [
    "s1 = {1,2,\"c\",\"d\"}\n",
    "s2 = {1,\"a\",\"d\"}\n",
    "\n",
    "# Union\n",
    "print(\"Union Methods\")\n",
    "print(\"s1 U s2:\", s1|s2)\n",
    "print(\"s1 U s2:\", s1.union(s2))\n",
    "\n",
    "# Intersection\n",
    "print(\"\\nIntersection Methods\")\n",
    "print(\"s1 ∩ s2:\", s1&s2)\n",
    "print(\"s1 ∩ s2:\", s1.intersection(s2))\n",
    "\n",
    "# Difference\n",
    "print(\"\\nDifference Methods\")\n",
    "print(\"s1 - s2:\", s1-s2)\n",
    "print(\"s1 - s2:\", s1.difference(s2))"
   ]
  },
  {
   "cell_type": "markdown",
   "metadata": {},
   "source": [
    "### 4. Remove Methods\n",
    "1. **Pop()**    ==> Removes only last item. Since sets are unordered, we don't know which item gets removed\n",
    "2. **Remove()** ==> Removes Specified item. Gives error if specified item is not present\n",
    "3. **Discard()** ==> Removes Specified item. Does not give error if specified item is not present\n",
    "4. **Clear()**  ==> Clears the entire set"
   ]
  },
  {
   "cell_type": "code",
   "execution_count": 6,
   "metadata": {},
   "outputs": [
    {
     "name": "stdout",
     "output_type": "stream",
     "text": [
      "Removed item: apple\n",
      "Updated Set: {'banana', 'mango'}\n"
     ]
    }
   ],
   "source": [
    "# Pop()\n",
    "\n",
    "s = {\"apple\", \"banana\", \"mango\", 2}\n",
    "s.pop()\n",
    "\n",
    "print(\"Removed item:\", s.pop())\n",
    "print(\"Updated Set:\",s)"
   ]
  },
  {
   "cell_type": "code",
   "execution_count": 7,
   "metadata": {},
   "outputs": [
    {
     "name": "stdout",
     "output_type": "stream",
     "text": [
      "{2, 'apple', 'mango'}\n"
     ]
    }
   ],
   "source": [
    "# Remove() \n",
    "\n",
    "s = {\"apple\", \"banana\", \"mango\", 2}\n",
    "s.remove(\"banana\")\n",
    "print(s)"
   ]
  },
  {
   "cell_type": "code",
   "execution_count": 8,
   "metadata": {},
   "outputs": [
    {
     "ename": "KeyError",
     "evalue": "'cherry'",
     "output_type": "error",
     "traceback": [
      "\u001b[1;31m---------------------------------------------------------------------------\u001b[0m",
      "\u001b[1;31mKeyError\u001b[0m                                  Traceback (most recent call last)",
      "\u001b[1;32mC:\\Users\\PURBAY~1\\AppData\\Local\\Temp/ipykernel_11880/3299268986.py\u001b[0m in \u001b[0;36m<module>\u001b[1;34m\u001b[0m\n\u001b[0;32m      2\u001b[0m \u001b[1;33m\u001b[0m\u001b[0m\n\u001b[0;32m      3\u001b[0m \u001b[0ms\u001b[0m \u001b[1;33m=\u001b[0m \u001b[1;33m{\u001b[0m\u001b[1;34m\"apple\"\u001b[0m\u001b[1;33m,\u001b[0m \u001b[1;34m\"banana\"\u001b[0m\u001b[1;33m,\u001b[0m \u001b[1;34m\"mango\"\u001b[0m\u001b[1;33m,\u001b[0m \u001b[1;36m2\u001b[0m\u001b[1;33m}\u001b[0m\u001b[1;33m\u001b[0m\u001b[1;33m\u001b[0m\u001b[0m\n\u001b[1;32m----> 4\u001b[1;33m \u001b[0ms\u001b[0m\u001b[1;33m.\u001b[0m\u001b[0mremove\u001b[0m\u001b[1;33m(\u001b[0m\u001b[1;34m\"cherry\"\u001b[0m\u001b[1;33m)\u001b[0m\u001b[1;33m\u001b[0m\u001b[1;33m\u001b[0m\u001b[0m\n\u001b[0m\u001b[0;32m      5\u001b[0m \u001b[0mprint\u001b[0m\u001b[1;33m(\u001b[0m\u001b[0ms\u001b[0m\u001b[1;33m)\u001b[0m\u001b[1;33m\u001b[0m\u001b[1;33m\u001b[0m\u001b[0m\n",
      "\u001b[1;31mKeyError\u001b[0m: 'cherry'"
     ]
    }
   ],
   "source": [
    "# However, if the Specified item isn't present ==> Gives error\n",
    "\n",
    "s = {\"apple\", \"banana\", \"mango\", 2}\n",
    "s.remove(\"cherry\")\n",
    "print(s)"
   ]
  },
  {
   "cell_type": "code",
   "execution_count": 9,
   "metadata": {},
   "outputs": [
    {
     "name": "stdout",
     "output_type": "stream",
     "text": [
      "{2, 'apple', 'mango'}\n"
     ]
    }
   ],
   "source": [
    "# Discard()\n",
    "\n",
    "s = {\"apple\", \"banana\", \"mango\", 2}\n",
    "s.discard(\"banana\")\n",
    "print(s)"
   ]
  },
  {
   "cell_type": "code",
   "execution_count": 10,
   "metadata": {},
   "outputs": [
    {
     "name": "stdout",
     "output_type": "stream",
     "text": [
      "{2, 'apple', 'banana', 'mango'}\n"
     ]
    }
   ],
   "source": [
    "# However, if the Specified item isn't present ==> Doesn't give error\n",
    "\n",
    "s = {\"apple\", \"banana\", \"mango\", 2}\n",
    "s.discard(\"cherry\")\n",
    "print(s)"
   ]
  },
  {
   "cell_type": "code",
   "execution_count": 11,
   "metadata": {},
   "outputs": [
    {
     "name": "stdout",
     "output_type": "stream",
     "text": [
      "set()\n"
     ]
    }
   ],
   "source": [
    "# Clear()\n",
    "\n",
    "s = {\"apple\", \"banana\", \"mango\", 2}\n",
    "s.clear()\n",
    "print(s)"
   ]
  },
  {
   "cell_type": "markdown",
   "metadata": {},
   "source": [
    "### 5. Mathematical Operations\n",
    "* Sets are non-repeatative in nature\n",
    "* All repeated items are deleted and a set of unique characters are returned\n",
    "* Mathematical Operations are hence performed on the set of unique characters"
   ]
  },
  {
   "cell_type": "code",
   "execution_count": 12,
   "metadata": {},
   "outputs": [
    {
     "name": "stdout",
     "output_type": "stream",
     "text": [
      "{1, 2, 3, 4}\n",
      "Sum: 10\n",
      "Max: 4\n",
      "Min: 1\n"
     ]
    }
   ],
   "source": [
    "a= {1,2,3,4,4,4,4,3}\n",
    "print(a)\n",
    "\n",
    "print(\"Sum:\",sum(a))\n",
    "print(\"Max:\",max(a))\n",
    "print(\"Min:\",min(a))"
   ]
  }
 ],
 "metadata": {
  "kernelspec": {
   "display_name": "Python 3 (ipykernel)",
   "language": "python",
   "name": "python3"
  },
  "language_info": {
   "codemirror_mode": {
    "name": "ipython",
    "version": 3
   },
   "file_extension": ".py",
   "mimetype": "text/x-python",
   "name": "python",
   "nbconvert_exporter": "python",
   "pygments_lexer": "ipython3",
   "version": "3.9.7"
  }
 },
 "nbformat": 4,
 "nbformat_minor": 2
}
