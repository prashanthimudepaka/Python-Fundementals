{
 "cells": [
  {
   "cell_type": "markdown",
   "id": "915526d3",
   "metadata": {},
   "source": [
    "## 5) In-Built Functions\n",
    "* These are functions which had already been built\n",
    "* We are required to call these functions and implement them\n",
    "\n",
    "1. **Aggregate Functions**\n",
    "\n",
    "    * max\n",
    "    * min\n",
    "    * sum\n",
    "    * mean\n",
    "    * median\n",
    "    * mode\n",
    "\n",
    "\n",
    "2. **Analytical Functions**\n",
    "\n",
    "    * eval\n",
    "    * len\n",
    "    * factorial \n",
    "    \n",
    "### 1. Aggregate Functions"
   ]
  },
  {
   "cell_type": "code",
   "execution_count": 1,
   "id": "9f6d1403",
   "metadata": {},
   "outputs": [
    {
     "name": "stdout",
     "output_type": "stream",
     "text": [
      "max: 9\n",
      "min: 1\n",
      "sum: 28\n",
      "mean: 4\n",
      "median: 3\n",
      "mode: 1\n"
     ]
    }
   ],
   "source": [
    "list1 = [3, 5, 7, 9, 2, 1, 1]\n",
    "\n",
    "# max\n",
    "print(\"max:\", max(list1))\n",
    "\n",
    "# min\n",
    "print(\"min:\", min(list1))\n",
    "\n",
    "# sum\n",
    "print(\"sum:\", sum(list1))\n",
    "\n",
    "\n",
    "import statistics as s\n",
    "\n",
    "# mean\n",
    "print(\"mean:\", s.mean(list1))\n",
    "\n",
    "# median\n",
    "print(\"median:\", s.median(list1))\n",
    "\n",
    "# mode\n",
    "print(\"mode:\", s.mode(list1))"
   ]
  },
  {
   "cell_type": "markdown",
   "id": "07189216",
   "metadata": {},
   "source": [
    "### 2. Analytical Functions"
   ]
  },
  {
   "cell_type": "code",
   "execution_count": 2,
   "id": "e3e19848",
   "metadata": {},
   "outputs": [
    {
     "data": {
      "text/plain": [
       "13"
      ]
     },
     "execution_count": 2,
     "metadata": {},
     "output_type": "execute_result"
    }
   ],
   "source": [
    "# eval function ==> evaluates the string like a python expression and returns the result as an integer\n",
    "x=3\n",
    "eval('x**2+2*x-2')"
   ]
  },
  {
   "cell_type": "code",
   "execution_count": 3,
   "id": "b28dcdfb",
   "metadata": {},
   "outputs": [
    {
     "name": "stdout",
     "output_type": "stream",
     "text": [
      "len: 6\n",
      "5! = 120\n"
     ]
    }
   ],
   "source": [
    "# len\n",
    "li = [4, 76, 2, 34, 12, 9]\n",
    "print(\"len:\",len(li))\n",
    "\n",
    "# factorial\n",
    "import math\n",
    "f = math.factorial(5)\n",
    "print(f\"5! = {f}\")"
   ]
  },
  {
   "cell_type": "markdown",
   "id": "ea9cfa14",
   "metadata": {},
   "source": [
    "# Recursion\n",
    "* Recursion is a process wherein a function calls itself within a function\n",
    "* It requires minimalistic code \n",
    "\n",
    "**Advantages**\n",
    "* Recursive functions make task look clean and elegant\n",
    "* A complex problem can be broken down into simpler sub-problems\n",
    "\n",
    "**Disadvantages**\n",
    "* Sometimes recursive functions are difficult to follow through\n",
    "* These are hard to debug"
   ]
  },
  {
   "cell_type": "code",
   "execution_count": 4,
   "id": "a9872fc5",
   "metadata": {},
   "outputs": [
    {
     "data": {
      "text/plain": [
       "120"
      ]
     },
     "execution_count": 4,
     "metadata": {},
     "output_type": "execute_result"
    }
   ],
   "source": [
    "## Factorial of a number using Recursion\n",
    "\n",
    "def factorial(num):\n",
    "    if num == 1:\n",
    "        return 1   # Boundary Condition\n",
    "    else:\n",
    "        return num*factorial(num-1)\n",
    "\n",
    "factorial(5)"
   ]
  },
  {
   "cell_type": "code",
   "execution_count": 5,
   "id": "d1eb66b3",
   "metadata": {},
   "outputs": [
    {
     "name": "stdout",
     "output_type": "stream",
     "text": [
      "Fibonacci of 0 is: 0\n",
      "Fibonacci of 1 is: 1\n",
      "Fibonacci of 2 is: 1\n",
      "Fibonacci of 3 is: 2\n",
      "Fibonacci of 4 is: 3\n",
      "Fibonacci of 5 is: 5\n",
      "Fibonacci of 6 is: 8\n",
      "Fibonacci of 7 is: 13\n",
      "Fibonacci of 8 is: 21\n",
      "Fibonacci of 9 is: 34\n"
     ]
    }
   ],
   "source": [
    "## Fibonacci Series using Recursion\n",
    "\n",
    "def fibonacci(num):\n",
    "    if num <= 1:\n",
    "        return num    # Boundary Condition\n",
    "    else:\n",
    "        return fibonacci(num-1) + fibonacci(num-2)\n",
    "\n",
    "terms = 10\n",
    "\n",
    "for i in range(terms):\n",
    "    print(f\"Fibonacci of {i} is: {fibonacci(i)}\")"
   ]
  }
 ],
 "metadata": {
  "kernelspec": {
   "display_name": "Python 3 (ipykernel)",
   "language": "python",
   "name": "python3"
  },
  "language_info": {
   "codemirror_mode": {
    "name": "ipython",
    "version": 3
   },
   "file_extension": ".py",
   "mimetype": "text/x-python",
   "name": "python",
   "nbconvert_exporter": "python",
   "pygments_lexer": "ipython3",
   "version": "3.9.7"
  }
 },
 "nbformat": 4,
 "nbformat_minor": 5
}
