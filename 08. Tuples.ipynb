{
 "cells": [
  {
   "cell_type": "markdown",
   "metadata": {},
   "source": [
    "# Tuples"
   ]
  },
  {
   "cell_type": "code",
   "execution_count": 1,
   "metadata": {},
   "outputs": [],
   "source": [
    "# Creating a tuple\n",
    "t = (\"apple\", \"banana\", \"mango\", 2)"
   ]
  },
  {
   "cell_type": "markdown",
   "metadata": {},
   "source": [
    "## Different ways of representing Tuples"
   ]
  },
  {
   "cell_type": "code",
   "execution_count": 2,
   "metadata": {},
   "outputs": [
    {
     "name": "stdout",
     "output_type": "stream",
     "text": [
      "<class 'tuple'>\n",
      "<class 'tuple'>\n",
      "\n",
      "<class 'int'>\n",
      "<class 'tuple'>\n",
      "\n",
      "<class 'int'>\n",
      "<class 'tuple'>\n"
     ]
    }
   ],
   "source": [
    "a = (1,2,3,4)\n",
    "b = 1,2,3,4\n",
    "\n",
    "c1 = (1)\n",
    "c2 = (1,)\n",
    "\n",
    "d1 = 1\n",
    "d2 = 1,\n",
    "\n",
    "print(type(a))\n",
    "print(type(b))\n",
    "print()\n",
    "print(type(c1))\n",
    "print(type(c2))\n",
    "print()\n",
    "print(type(d1))\n",
    "print(type(d2))"
   ]
  },
  {
   "cell_type": "markdown",
   "metadata": {},
   "source": [
    "## Operations in a Tuple\n",
    "\n",
    "### The following operations in tuple are NOT possible owing to its immutability\n",
    "1. Append, Insert, Extend (3,4,5)\n",
    "11. Remove, Pop, Del, Clear (10,11,12,13)\n",
    "10. Replace (9)\n",
    "9. Sorting of a Tuple (8)\n",
    "\n",
    "### The following operations in tuple are same as that of list\n",
    "1. Accessing Items (1)\n",
    "2. Loop through tuples (2)\n",
    "6. Concatenation (6)\n",
    "7. Copy of a Tuple (7)\n",
    "15. Mathematical Operations (14)\n",
    "\n",
    "### 1. Accessing Items (1)"
   ]
  },
  {
   "cell_type": "code",
   "execution_count": 3,
   "metadata": {},
   "outputs": [
    {
     "name": "stdout",
     "output_type": "stream",
     "text": [
      "First Item: banana\n",
      "Last Item: 2\n",
      "Whole Tuple: ('apple', 'banana', 'mango', 2)\n",
      "Reversed Tuple: (2, 'mango', 'banana', 'apple')\n"
     ]
    }
   ],
   "source": [
    "# Accessing first item\n",
    "print(\"First Item:\",t[1])\n",
    "\n",
    "# Accessing last item\n",
    "print(\"Last Item:\", t[-1])\n",
    "\n",
    "# Accessing the whole list\n",
    "print(\"Whole Tuple:\", t[:])\n",
    "\n",
    "# Reversing the list\n",
    "print (\"Reversed Tuple:\", t[::-1])"
   ]
  },
  {
   "cell_type": "markdown",
   "metadata": {},
   "source": [
    "### 2. Loop through a Tuple (2)"
   ]
  },
  {
   "cell_type": "code",
   "execution_count": 4,
   "metadata": {},
   "outputs": [
    {
     "name": "stdout",
     "output_type": "stream",
     "text": [
      "apple\n",
      "banana\n",
      "mango\n",
      "2\n"
     ]
    }
   ],
   "source": [
    "# Method_1\n",
    "for i in t:\n",
    "    print(i)"
   ]
  },
  {
   "cell_type": "code",
   "execution_count": 5,
   "metadata": {},
   "outputs": [
    {
     "name": "stdout",
     "output_type": "stream",
     "text": [
      "apple\n",
      "banana\n",
      "mango\n",
      "2\n"
     ]
    }
   ],
   "source": [
    "# Method_2\n",
    "for i in range(len(t)):\n",
    "    print(t[i])"
   ]
  },
  {
   "cell_type": "markdown",
   "metadata": {},
   "source": [
    "### 3. Concatenation (3)"
   ]
  },
  {
   "cell_type": "code",
   "execution_count": 6,
   "metadata": {},
   "outputs": [
    {
     "name": "stdout",
     "output_type": "stream",
     "text": [
      "(1, 2, 3, 4, 5, 'apple')\n"
     ]
    }
   ],
   "source": [
    "t1 = (1,2,3)\n",
    "t2 = (4,5,\"apple\")\n",
    "\n",
    "print(t1 + t2)"
   ]
  },
  {
   "cell_type": "markdown",
   "metadata": {},
   "source": [
    "### 4. Copy of a Tuple (7)"
   ]
  },
  {
   "cell_type": "code",
   "execution_count": 7,
   "metadata": {},
   "outputs": [
    {
     "name": "stdout",
     "output_type": "stream",
     "text": [
      "('apple', 'banana', 'mango', 2)\n",
      "('apple', 'banana', 'mango', 2)\n"
     ]
    }
   ],
   "source": [
    "# A tuple can be copied simply by t1 = t2 \n",
    "# This is because it doesn't allow any changes once it is declared\n",
    "\n",
    "t1 = (\"apple\", \"banana\", \"mango\", 2)\n",
    "t2 = t1\n",
    "\n",
    "print(t1)\n",
    "print(t2)"
   ]
  },
  {
   "cell_type": "markdown",
   "metadata": {},
   "source": [
    "### 5. Mathematical Operations (14)"
   ]
  },
  {
   "cell_type": "code",
   "execution_count": 8,
   "metadata": {},
   "outputs": [
    {
     "name": "stdout",
     "output_type": "stream",
     "text": [
      "Sum: 10\n",
      "Max: 4\n",
      "Min: 1\n"
     ]
    }
   ],
   "source": [
    "t = (1,2,3,4)\n",
    "\n",
    "# Sum\n",
    "print(\"Sum:\",sum(t))\n",
    "\n",
    "# Max\n",
    "print(\"Max:\", max(t))\n",
    "\n",
    "# Min\n",
    "print(\"Min:\", min(t))"
   ]
  }
 ],
 "metadata": {
  "kernelspec": {
   "display_name": "Python 3 (ipykernel)",
   "language": "python",
   "name": "python3"
  },
  "language_info": {
   "codemirror_mode": {
    "name": "ipython",
    "version": 3
   },
   "file_extension": ".py",
   "mimetype": "text/x-python",
   "name": "python",
   "nbconvert_exporter": "python",
   "pygments_lexer": "ipython3",
   "version": "3.9.7"
  }
 },
 "nbformat": 4,
 "nbformat_minor": 2
}
