{
 "cells": [
  {
   "cell_type": "markdown",
   "id": "c98ab8bb",
   "metadata": {},
   "source": [
    "# Agenda\n",
    "1. **Inheritence**\n",
    "2. **Encapsulation**\n",
    "3. **Polymorphism**\n",
    "\n",
    "\n",
    "\n",
    "## 1. Inheritence \n",
    "It allows us to define a class that inherits all the methods and properties of another class                                    \n",
    "There are basically 2 type of classes:\n",
    "1. **Parent Class** ==> The class being inherited from\n",
    "2. **Child Class** ==> The class that inherits"
   ]
  },
  {
   "cell_type": "code",
   "execution_count": 1,
   "id": "d22c2d22",
   "metadata": {},
   "outputs": [
    {
     "name": "stdout",
     "output_type": "stream",
     "text": [
      "Nikhil.Dubey@company.com\n"
     ]
    }
   ],
   "source": [
    "# Creating Parent Class\n",
    "class Employee:\n",
    "    \n",
    "    def __init__(self, first, last):   \n",
    "        self.first = first\n",
    "        self.last  = last\n",
    "        self.email = f\"{first}.{last}@company.com\"\n",
    "\n",
    "        \n",
    "# Creating Objects\n",
    "emp_1 = Employee(\"Nikhil\", \"Dubey\")  \n",
    "emp_2 = Employee(\"Yatharth\", \"Raman\")\n",
    "\n",
    "print(emp_1.email)"
   ]
  },
  {
   "cell_type": "code",
   "execution_count": 2,
   "id": "3067b001",
   "metadata": {},
   "outputs": [
    {
     "name": "stdout",
     "output_type": "stream",
     "text": [
      "Nikhil.Dubey@company.com\n",
      "Yatharth.Raman@developer.com\n",
      "Python\n"
     ]
    }
   ],
   "source": [
    "# Creating Child Class\n",
    "class Developer(Employee):\n",
    "    \n",
    "    def __init__(self, first, last, prog_lang):  \n",
    "        super().__init__(first, last)     \n",
    "        \n",
    "        self.email = f\"{first}.{last}@developer.com\"\n",
    "        self.prog_lang = prog_lang\n",
    "\n",
    "# Creating Objects        \n",
    "emp_1 = Employee(\"Nikhil\", \"Dubey\")               ## Inherited from Employee Class\n",
    "emp_2 = Developer(\"Yatharth\", \"Raman\", \"Python\")  ## Created in Developer Class\n",
    "\n",
    "print(emp_1.email)\n",
    "print(emp_2.email)\n",
    "print(emp_2.prog_lang)"
   ]
  },
  {
   "cell_type": "markdown",
   "id": "0959cd26",
   "metadata": {},
   "source": [
    "# 2. Encapsulation\n",
    "* It is the process of wrapping up variables and methods into a single entity\n",
    "* It restricts direct access to variables and methods\n",
    "* Data is hidden through private members of the class\n",
    "* The private members of the class cannot be accessed from outside the class\n",
    "* To define a member as **private member** of the class ==> prefix the name of the member by **\"_\" or \"__\"**\n",
    "* The only way to modify a private value is to create a function for the same inside the class"
   ]
  },
  {
   "cell_type": "code",
   "execution_count": 3,
   "id": "af5a6dd1",
   "metadata": {},
   "outputs": [
    {
     "name": "stdout",
     "output_type": "stream",
     "text": [
      "Mahesh 36\n",
      "Mahesh 36\n"
     ]
    }
   ],
   "source": [
    "# Creating a Class\n",
    "class Person:\n",
    "    def __init__(self, name, _age):\n",
    "        self.name = name\n",
    "        self._age = _age # Private\n",
    "    \n",
    "    def display(self):\n",
    "        print(self.name, self._age)\n",
    "\n",
    "        \n",
    "# Creating object\n",
    "p1 = Person(\"Mahesh\", 36)\n",
    "p1.display()\n",
    "\n",
    "\n",
    "p1.age=26 # No Effect since Private\n",
    "p1.display()"
   ]
  },
  {
   "cell_type": "code",
   "execution_count": 4,
   "id": "846c22a6",
   "metadata": {},
   "outputs": [
    {
     "name": "stdout",
     "output_type": "stream",
     "text": [
      "Mahesh 36\n",
      "Mahesh 26\n"
     ]
    }
   ],
   "source": [
    "## The only way to modify a private value is to create a function for the same inside the class\n",
    "\n",
    "# Creating a Class\n",
    "class Person:\n",
    "    def __init__(self, name, _age):\n",
    "        self.name = name\n",
    "        self._age = _age # Private\n",
    "    \n",
    "    def display(self):\n",
    "        print(self.name, self._age)\n",
    "\n",
    "    def modify_variable(self, new_age):\n",
    "        self._age = new_age\n",
    "        \n",
    "\n",
    "# Creating object\n",
    "p1 = Person(\"Mahesh\", 36)\n",
    "p1.display()\n",
    "\n",
    "\n",
    "p1.modify_variable(26) # Now works \n",
    "p1.display()"
   ]
  },
  {
   "cell_type": "markdown",
   "id": "bddcc9f4",
   "metadata": {},
   "source": [
    "# 3. Polymorphism\n",
    "* **Poly** ==> Many ; **Morphism** ==> Forms\n",
    "* Polymorphism is the ability to use a method in different ways\n",
    "* The function names need to be same for different classes\n",
    "* But the outputs of the same functions(in different classes) can be different"
   ]
  },
  {
   "cell_type": "code",
   "execution_count": 5,
   "id": "6a39d526",
   "metadata": {},
   "outputs": [
    {
     "name": "stdout",
     "output_type": "stream",
     "text": [
      "6\n",
      "5\n",
      "7\n"
     ]
    }
   ],
   "source": [
    "## Defing 3 classes having function with same name\n",
    "\n",
    "class SBI:\n",
    "    def rate_of_interest(self):\n",
    "        return 6\n",
    "\n",
    "class ICICI:\n",
    "    def rate_of_interest(self):\n",
    "        return 5\n",
    "\n",
    "class HDFC:\n",
    "    def rate_of_interest(self):\n",
    "        return 7\n",
    "    \n",
    "    \n",
    "## Common Interface\n",
    "def common(bank):\n",
    "    return bank.rate_of_interest()\n",
    "\n",
    "### Creating objects\n",
    "s = SBI()\n",
    "i = ICICI()\n",
    "h = HDFC()\n",
    "\n",
    "print(common(s))\n",
    "print(common(i))\n",
    "print(common(h))"
   ]
  }
 ],
 "metadata": {
  "kernelspec": {
   "display_name": "Python 3 (ipykernel)",
   "language": "python",
   "name": "python3"
  },
  "language_info": {
   "codemirror_mode": {
    "name": "ipython",
    "version": 3
   },
   "file_extension": ".py",
   "mimetype": "text/x-python",
   "name": "python",
   "nbconvert_exporter": "python",
   "pygments_lexer": "ipython3",
   "version": "3.9.7"
  }
 },
 "nbformat": 4,
 "nbformat_minor": 5
}
