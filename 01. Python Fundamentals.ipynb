{
 "cells": [
  {
   "cell_type": "markdown",
   "id": "e0fd79ae",
   "metadata": {},
   "source": [
    "## Checking Python version in Jupyter Notebook"
   ]
  },
  {
   "cell_type": "code",
   "execution_count": 1,
   "id": "5aa6613e",
   "metadata": {},
   "outputs": [
    {
     "data": {
      "text/plain": [
       "'3.9.7 (default, Sep 16 2021, 16:59:28) [MSC v.1916 64 bit (AMD64)]'"
      ]
     },
     "execution_count": 1,
     "metadata": {},
     "output_type": "execute_result"
    }
   ],
   "source": [
    "import sys\n",
    "sys.version"
   ]
  },
  {
   "cell_type": "code",
   "execution_count": 2,
   "id": "74874692",
   "metadata": {},
   "outputs": [
    {
     "name": "stdout",
     "output_type": "stream",
     "text": [
      "3.9.7\n"
     ]
    }
   ],
   "source": [
    "from platform import python_version\n",
    "print(python_version())"
   ]
  },
  {
   "cell_type": "markdown",
   "id": "dd8cac30",
   "metadata": {},
   "source": [
    "## Topics Covered\n",
    "1. Python Variable\n",
    "2. Python Keywords\n",
    "3. Declaring Variables\n",
    "4. Scope of Variables\n",
    "5. Data Types\n",
    "6. Type Casting\n",
    "7. Operators\n",
    "\n",
    "## 1. Python Variables\n",
    "A variable is a location in memory used to store some data (value).                                                     \n",
    "They are given unique names to differentiate between different memory locations. "
   ]
  },
  {
   "cell_type": "code",
   "execution_count": 3,
   "id": "482d7e4d",
   "metadata": {},
   "outputs": [
    {
     "name": "stdout",
     "output_type": "stream",
     "text": [
      "x_old ==> 2042384968048\n",
      "y_old ==> 2042384968048\n",
      "y_new ==> 2042384968016\n"
     ]
    }
   ],
   "source": [
    "x = 3\n",
    "y = 3\n",
    "\n",
    "print(\"x_old ==>\",id(x))\n",
    "print(\"y_old ==>\",id(y))              \n",
    "\n",
    "y = 2\n",
    "print(\"y_new ==>\",id(y)) "
   ]
  },
  {
   "cell_type": "markdown",
   "id": "d11cee9c",
   "metadata": {},
   "source": [
    "## 2. Python Keywords\n",
    "1. Keywords are the reserved words in python\n",
    "2. We can't use a keyword as variable name, function name or any other identifier\n",
    "3. Keywords are case sentive"
   ]
  },
  {
   "cell_type": "code",
   "execution_count": 4,
   "id": "ac6b5fe9",
   "metadata": {},
   "outputs": [
    {
     "name": "stdout",
     "output_type": "stream",
     "text": [
      "['False', 'None', 'True', '__peg_parser__', 'and', 'as', 'assert', 'async', 'await', 'break', 'class', 'continue', 'def', 'del', 'elif', 'else', 'except', 'finally', 'for', 'from', 'global', 'if', 'import', 'in', 'is', 'lambda', 'nonlocal', 'not', 'or', 'pass', 'raise', 'return', 'try', 'while', 'with', 'yield']\n",
      "\n",
      "Total No of Keywords: 36\n"
     ]
    }
   ],
   "source": [
    "#Get all keywords in python\n",
    "import keyword\n",
    "print(keyword.kwlist)\n",
    "print()\n",
    "print(\"Total No of Keywords:\",len(keyword.kwlist))"
   ]
  },
  {
   "cell_type": "markdown",
   "id": "737097ad",
   "metadata": {},
   "source": [
    "## 3. Declaring Variables"
   ]
  },
  {
   "cell_type": "code",
   "execution_count": 5,
   "id": "fdbeaae3",
   "metadata": {},
   "outputs": [
    {
     "name": "stdout",
     "output_type": "stream",
     "text": [
      "3 python 5.7\n",
      "3 python 5.7\n"
     ]
    }
   ],
   "source": [
    "a = 3\n",
    "b = \"python\"\n",
    "c = 5.7\n",
    "print(a,b,c)\n",
    "\n",
    "# Efficient way of declaration\n",
    "a,b,c = 3, \"python\", 5.7\n",
    "print(a,b,c)"
   ]
  },
  {
   "cell_type": "markdown",
   "id": "21c70099",
   "metadata": {},
   "source": [
    "## 4. Scope of Variables\n",
    "Part of the program where a variable is accessible is called its scope.                                                         \n",
    "There are 2 types of scopes:\n",
    "* Local Scope\n",
    "* Global Scope"
   ]
  },
  {
   "cell_type": "markdown",
   "id": "a7d72191",
   "metadata": {},
   "source": [
    "## ==> Local Scope\n",
    "Variables created inside a function, belongs to the local scope of the function and can only be used inside that function."
   ]
  },
  {
   "cell_type": "code",
   "execution_count": 6,
   "id": "3e2c8ae4",
   "metadata": {},
   "outputs": [
    {
     "ename": "NameError",
     "evalue": "name 'var' is not defined",
     "output_type": "error",
     "traceback": [
      "\u001b[1;31m---------------------------------------------------------------------------\u001b[0m",
      "\u001b[1;31mNameError\u001b[0m                                 Traceback (most recent call last)",
      "\u001b[1;32mC:\\Users\\PURBAY~1\\AppData\\Local\\Temp/ipykernel_8388/813190836.py\u001b[0m in \u001b[0;36m<module>\u001b[1;34m\u001b[0m\n\u001b[0;32m      3\u001b[0m \u001b[1;33m\u001b[0m\u001b[0m\n\u001b[0;32m      4\u001b[0m \u001b[0mfunc\u001b[0m\u001b[1;33m(\u001b[0m\u001b[1;33m)\u001b[0m\u001b[1;33m\u001b[0m\u001b[1;33m\u001b[0m\u001b[0m\n\u001b[1;32m----> 5\u001b[1;33m \u001b[0mprint\u001b[0m\u001b[1;33m(\u001b[0m\u001b[0mvar\u001b[0m\u001b[1;33m)\u001b[0m\u001b[1;33m\u001b[0m\u001b[1;33m\u001b[0m\u001b[0m\n\u001b[0m",
      "\u001b[1;31mNameError\u001b[0m: name 'var' is not defined"
     ]
    }
   ],
   "source": [
    "def func():\n",
    "    var = 4\n",
    "    \n",
    "func()\n",
    "print(var) "
   ]
  },
  {
   "cell_type": "markdown",
   "id": "0b1d4c0c",
   "metadata": {},
   "source": [
    "## ==> Global Scope\n",
    "Variables created inside the main body of Python code, belongs to the global scope and can be used anywhere in the code."
   ]
  },
  {
   "cell_type": "code",
   "execution_count": 7,
   "id": "2896fdef",
   "metadata": {},
   "outputs": [
    {
     "name": "stdout",
     "output_type": "stream",
     "text": [
      "6\n"
     ]
    }
   ],
   "source": [
    "var2 = 6\n",
    "def func():\n",
    "    var = 4\n",
    "    \n",
    "func()\n",
    "print(var2) "
   ]
  },
  {
   "cell_type": "markdown",
   "id": "a9049904",
   "metadata": {},
   "source": [
    "## ==> Priority of Scopes\n",
    "Priority of local scope > global scope\n",
    "* If a function encounters the same variable declared both locally and globally, it will give more priority to the local declaration. "
   ]
  },
  {
   "cell_type": "code",
   "execution_count": 8,
   "id": "ec294a42",
   "metadata": {},
   "outputs": [
    {
     "name": "stdout",
     "output_type": "stream",
     "text": [
      "4\n",
      "6\n"
     ]
    }
   ],
   "source": [
    "var = 6\n",
    "def func():\n",
    "    var = 4\n",
    "    print(var)\n",
    "    \n",
    "func()\n",
    "print(var) "
   ]
  },
  {
   "cell_type": "markdown",
   "id": "f7ba94f3",
   "metadata": {},
   "source": [
    "## ==> Declaring Global Variables Inside a Function"
   ]
  },
  {
   "cell_type": "code",
   "execution_count": 9,
   "id": "c452e718",
   "metadata": {},
   "outputs": [
    {
     "name": "stdout",
     "output_type": "stream",
     "text": [
      "22\n"
     ]
    }
   ],
   "source": [
    "def func():\n",
    "    global var\n",
    "    var = 22\n",
    "    \n",
    "func()\n",
    "print(var)"
   ]
  },
  {
   "cell_type": "markdown",
   "id": "52fbd98f",
   "metadata": {},
   "source": [
    "## 5. Data Types\n",
    "Every value in Python has a datatype.                                                                                    \n",
    "Since everything is an **object** in Python, data types are actually classes and variables are instance (object) of these classes.\n",
    "\n",
    "1. String is sequence of **Unicode** characters\n",
    "2. Set is an unordered collection of items and so we can't print any particular element (eg set[0]) in set"
   ]
  },
  {
   "cell_type": "code",
   "execution_count": 10,
   "id": "a5c58bf3",
   "metadata": {},
   "outputs": [
    {
     "name": "stdout",
     "output_type": "stream",
     "text": [
      "<class 'int'>\n",
      "<class 'float'>\n",
      "<class 'complex'>\n",
      "<class 'str'>\n",
      "<class 'bool'>\n"
     ]
    }
   ],
   "source": [
    "a = 5\n",
    "b = 5.5\n",
    "c = 1+2j\n",
    "d = \"hello\"\n",
    "e = True\n",
    "\n",
    "print(type(a))\n",
    "print(type(b))\n",
    "print(type(c))\n",
    "print(type(d))\n",
    "print(type(e))"
   ]
  },
  {
   "cell_type": "markdown",
   "id": "2db56b22",
   "metadata": {},
   "source": [
    "## 6. Typecasting"
   ]
  },
  {
   "cell_type": "code",
   "execution_count": 11,
   "id": "150f2f92",
   "metadata": {},
   "outputs": [
    {
     "name": "stdout",
     "output_type": "stream",
     "text": [
      "<class 'int'>\n",
      "<class 'str'>\n"
     ]
    }
   ],
   "source": [
    "x = 5\n",
    "print(type(x))\n",
    "\n",
    "# Typecasted to string\n",
    "y = str(x)\n",
    "print(type(y))"
   ]
  },
  {
   "cell_type": "markdown",
   "id": "1ea68922",
   "metadata": {},
   "source": [
    "## 7. Operators\n",
    "These are of following types:\n",
    "1. Arithmetic Operator\n",
    "2. Assignment Operator\n",
    "3. Comparison Operators\n",
    "4. Logical Operators\n",
    "5. Identity Operators\n",
    "6. Membership Operators"
   ]
  },
  {
   "cell_type": "markdown",
   "id": "fe554d3a",
   "metadata": {},
   "source": [
    "### ==> Arithematic Operators: \n",
    "These used for performing basic arithematic operations in Python.                                                          \n",
    "These are of following types:\n",
    "* Addition (+)\n",
    "* Subtraction (-)\n",
    "* Multiplication (*)\n",
    "* Division (/)\n",
    "* Integer Division or Floor Division (//)\n",
    "* Exponent (**)\n",
    "* Modulus (%)"
   ]
  },
  {
   "cell_type": "code",
   "execution_count": 12,
   "id": "d97f0b09",
   "metadata": {},
   "outputs": [
    {
     "name": "stdout",
     "output_type": "stream",
     "text": [
      "Addition ==> 8\n",
      "Subtraction ==> 2\n",
      "Multiplication ==> 15\n",
      "Division ==> 1.6666666666666667\n",
      "Integer Division ==> 1\n",
      "Exponent ==> 125\n",
      "Modulus ==> 2\n"
     ]
    }
   ],
   "source": [
    "x,y = 5,3\n",
    "\n",
    "# Addition\n",
    "print(\"Addition ==>\", x+y)\n",
    "\n",
    "# Subtraction\n",
    "print(\"Subtraction ==>\", x-y)\n",
    "\n",
    "# Multiplication\n",
    "print(\"Multiplication ==>\", x*y)\n",
    "\n",
    "# Division\n",
    "print(\"Division ==>\", x/y)\n",
    "\n",
    "# Integer Division\n",
    "print(\"Integer Division ==>\", x//y)\n",
    "\n",
    "# Exponent\n",
    "print(\"Exponent ==>\", x**y)\n",
    "\n",
    "# Modulus\n",
    "print(\"Modulus ==>\", x%y)"
   ]
  },
  {
   "cell_type": "markdown",
   "id": "5cf7f448",
   "metadata": {},
   "source": [
    "### ==> Assignment Operators:\n",
    "Assignment operators are used to assign a value to the variable.\n",
    "* x = x+y ==> x += y\n",
    "* x = x-y ==> x -= y\n",
    "* x = x*y ==> x *= y\n",
    "* x = x/y ==> x /= y\n",
    "* x = x//y ==> x //= y\n",
    "* x = x%y ==> x %= y"
   ]
  },
  {
   "cell_type": "code",
   "execution_count": 13,
   "id": "d1ba0b80",
   "metadata": {},
   "outputs": [
    {
     "name": "stdout",
     "output_type": "stream",
     "text": [
      "8\n"
     ]
    }
   ],
   "source": [
    "x,y = 5,3\n",
    "x = x+y\n",
    "print(x)"
   ]
  },
  {
   "cell_type": "code",
   "execution_count": 14,
   "id": "39a64121",
   "metadata": {},
   "outputs": [
    {
     "name": "stdout",
     "output_type": "stream",
     "text": [
      "8\n"
     ]
    }
   ],
   "source": [
    "x,y = 5,3\n",
    "x += y\n",
    "print(x)"
   ]
  },
  {
   "cell_type": "markdown",
   "id": "00c100f6",
   "metadata": {},
   "source": [
    "### ==> Comparison Operators:\n",
    "Comparison operators are used to compare one value to another.                                                                 \n",
    "The result of a comparison is a Boolean value, which can be either **True or False**.                                      \n",
    "\n",
    "These are of following types:\n",
    "* Equal to (==)\n",
    "* Not equal to (!=)\n",
    "* Greater than (>)\n",
    "* Greater than equal to (>=)\n",
    "* Less than (<)\n",
    "* Less than equal to (<=)"
   ]
  },
  {
   "cell_type": "code",
   "execution_count": 15,
   "id": "6c373e5c",
   "metadata": {},
   "outputs": [
    {
     "name": "stdout",
     "output_type": "stream",
     "text": [
      "True\n",
      "True\n",
      "True\n",
      "True\n",
      "True\n",
      "True\n"
     ]
    }
   ],
   "source": [
    "# Equal to \n",
    "print(2==2)\n",
    "\n",
    "# Not equal to\n",
    "print(2!=5)\n",
    "\n",
    "# Greater than\n",
    "print(4>2)\n",
    "\n",
    "# Greater than equal to \n",
    "print(4>=4)\n",
    "\n",
    "# Less than\n",
    "print(2<6)\n",
    "\n",
    "# Less than equal to\n",
    "print(6<=8)"
   ]
  },
  {
   "cell_type": "markdown",
   "id": "064e3b54",
   "metadata": {},
   "source": [
    "### ==> Logical Operators\n",
    "Logical operators are used to combine conditional statements.                                                              \n",
    "These are the following types:\n",
    "* and \n",
    "* or\n",
    "* not"
   ]
  },
  {
   "cell_type": "code",
   "execution_count": 16,
   "id": "ad32c3a6",
   "metadata": {},
   "outputs": [
    {
     "data": {
      "text/plain": [
       "True"
      ]
     },
     "execution_count": 16,
     "metadata": {},
     "output_type": "execute_result"
    }
   ],
   "source": [
    "# and\n",
    "x = 5\n",
    "x>2 and x<10"
   ]
  },
  {
   "cell_type": "code",
   "execution_count": 17,
   "id": "190ea4d5",
   "metadata": {},
   "outputs": [
    {
     "data": {
      "text/plain": [
       "True"
      ]
     },
     "execution_count": 17,
     "metadata": {},
     "output_type": "execute_result"
    }
   ],
   "source": [
    "# or \n",
    "x = 5\n",
    "x>2 or x<4 "
   ]
  },
  {
   "cell_type": "code",
   "execution_count": 18,
   "id": "5442bfc3",
   "metadata": {},
   "outputs": [
    {
     "data": {
      "text/plain": [
       "False"
      ]
     },
     "execution_count": 18,
     "metadata": {},
     "output_type": "execute_result"
    }
   ],
   "source": [
    "# not\n",
    "a = True\n",
    "not a"
   ]
  },
  {
   "cell_type": "markdown",
   "id": "0547d264",
   "metadata": {},
   "source": [
    "### ==> Identity Operators\n",
    "Identity operators compare the memory locations of two objects.                                                              \n",
    "These are the following types:\n",
    "* **is**: evaluates to **true** if the variables on either side of the operator **point** to the same object\n",
    "* **is not**: evaluates to **true** if the variables on either side of the operator **doesn't point** to the same object"
   ]
  },
  {
   "cell_type": "code",
   "execution_count": 19,
   "id": "0475eec5",
   "metadata": {},
   "outputs": [
    {
     "data": {
      "text/plain": [
       "True"
      ]
     },
     "execution_count": 19,
     "metadata": {},
     "output_type": "execute_result"
    }
   ],
   "source": [
    "x = 10\n",
    "y = 10\n",
    "\n",
    "x is y"
   ]
  },
  {
   "cell_type": "code",
   "execution_count": 20,
   "id": "a7684c8e",
   "metadata": {},
   "outputs": [
    {
     "data": {
      "text/plain": [
       "True"
      ]
     },
     "execution_count": 20,
     "metadata": {},
     "output_type": "execute_result"
    }
   ],
   "source": [
    "x = 10\n",
    "y = 20\n",
    "\n",
    "x is not y"
   ]
  },
  {
   "cell_type": "markdown",
   "id": "623cb0ce",
   "metadata": {},
   "source": [
    "### ==> Membership Operators\n",
    "Membership operators are operators used to validate the membership of a value.                                                              \n",
    "These are the following types:\n",
    "* **in**: evaluates to **true** if it **finds** a variable in the specified sequence\n",
    "* **not in**:evaluates to **true** if it **doesn't find** a variable in the specified sequence"
   ]
  },
  {
   "cell_type": "code",
   "execution_count": 21,
   "id": "54782c2d",
   "metadata": {},
   "outputs": [
    {
     "data": {
      "text/plain": [
       "True"
      ]
     },
     "execution_count": 21,
     "metadata": {},
     "output_type": "execute_result"
    }
   ],
   "source": [
    "li = [3,6,4,1]\n",
    "3 in li"
   ]
  },
  {
   "cell_type": "code",
   "execution_count": 22,
   "id": "b0e6cc56",
   "metadata": {},
   "outputs": [
    {
     "data": {
      "text/plain": [
       "True"
      ]
     },
     "execution_count": 22,
     "metadata": {},
     "output_type": "execute_result"
    }
   ],
   "source": [
    "li = [3,6,4,1]\n",
    "7 not in li"
   ]
  },
  {
   "cell_type": "markdown",
   "id": "78349bee",
   "metadata": {},
   "source": [
    "## Difference between \"==\" and \"is\" operator\n",
    "**==** ---Checks Equality                                                                                                       \n",
    "**is** ---Checks Identity(i.e. same ids)"
   ]
  },
  {
   "cell_type": "code",
   "execution_count": 23,
   "id": "30cf7b8f",
   "metadata": {},
   "outputs": [
    {
     "name": "stdout",
     "output_type": "stream",
     "text": [
      "True\n",
      "False\n"
     ]
    }
   ],
   "source": [
    "a = [1,2,3]\n",
    "b = [1,2,3]\n",
    "\n",
    "print (a==b)\n",
    "print (a is b)"
   ]
  },
  {
   "cell_type": "code",
   "execution_count": 24,
   "id": "6fc32cd3",
   "metadata": {},
   "outputs": [
    {
     "name": "stdout",
     "output_type": "stream",
     "text": [
      "2042465645760\n",
      "2042464708160\n"
     ]
    }
   ],
   "source": [
    "# Since a & b are equal in terms of elements, \"==\" operator ==> True\n",
    "# Since a & b have different ids, \"is\" operator ==> False\n",
    "\n",
    "# Proof\n",
    "print(id(a))\n",
    "print(id(b))"
   ]
  }
 ],
 "metadata": {
  "kernelspec": {
   "display_name": "Python 3 (ipykernel)",
   "language": "python",
   "name": "python3"
  },
  "language_info": {
   "codemirror_mode": {
    "name": "ipython",
    "version": 3
   },
   "file_extension": ".py",
   "mimetype": "text/x-python",
   "name": "python",
   "nbconvert_exporter": "python",
   "pygments_lexer": "ipython3",
   "version": "3.9.7"
  }
 },
 "nbformat": 4,
 "nbformat_minor": 5
}
