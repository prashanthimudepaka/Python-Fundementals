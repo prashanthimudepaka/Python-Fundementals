{
 "cells": [
  {
   "cell_type": "markdown",
   "id": "4ead2371",
   "metadata": {},
   "source": [
    "## 2) Anonymous Function ==> Lambda Function\n",
    "* These are anonymous functions i.e. functions without any names                                                           \n",
    "* Single use functions i.e. used for one-time only                                                                          \n",
    "* Can take any number of arguments but can have only one expression                                                       \n",
    "* **Syntax** ==> **lambda** argument: expression"
   ]
  },
  {
   "cell_type": "code",
   "execution_count": 1,
   "id": "72011f40",
   "metadata": {},
   "outputs": [
    {
     "name": "stdout",
     "output_type": "stream",
     "text": [
      "16\n",
      "16\n"
     ]
    }
   ],
   "source": [
    "# Example1 ==> Finding the square of a number\n",
    "\n",
    "# Normal Function\n",
    "def square(x):\n",
    "    return x*x\n",
    "\n",
    "print(square(4))\n",
    "\n",
    "\n",
    "# Lambda Function for the same\n",
    "square = lambda x: x*x\n",
    "print(square(4))"
   ]
  },
  {
   "cell_type": "code",
   "execution_count": 2,
   "id": "7b6852f2",
   "metadata": {},
   "outputs": [
    {
     "name": "stdout",
     "output_type": "stream",
     "text": [
      "7\n",
      "7\n"
     ]
    }
   ],
   "source": [
    "# Example2 ==> Get the maximum b/w 2 nos\n",
    "\n",
    "# Normal Function\n",
    "def max(x,y):\n",
    "    if x > y:\n",
    "        return x\n",
    "    else:\n",
    "        return y\n",
    "    \n",
    "print(max(3,7))\n",
    "\n",
    "\n",
    "# Lambda Function for the same\n",
    "max = lambda x,y: x if x>y else y\n",
    "print(max(3,7))"
   ]
  },
  {
   "cell_type": "code",
   "execution_count": 3,
   "id": "7785caa0",
   "metadata": {},
   "outputs": [
    {
     "name": "stdout",
     "output_type": "stream",
     "text": [
      "[('eggs', 3), ('carrot', 4), ('zebra', 5)]\n"
     ]
    }
   ],
   "source": [
    "# Sorting a list of tuples using Lambda Function\n",
    "## We need to sort this list based on ascending order of the numericals\n",
    "\n",
    "list1 = [(\"eggs\", 3), (\"zebra\", 5), (\"carrot\", 4)]\n",
    "list1.sort(key = lambda x: x[1])\n",
    "print(list1)"
   ]
  },
  {
   "cell_type": "code",
   "execution_count": 4,
   "id": "2ef2fd5e",
   "metadata": {},
   "outputs": [
    {
     "name": "stdout",
     "output_type": "stream",
     "text": [
      "[{'name': 'John', 'class': 6, 'age': 12}, {'name': 'John', 'class': 10, 'age': 16}, {'name': 'Drake', 'class': 12, 'age': 18}]\n"
     ]
    }
   ],
   "source": [
    "# Sorting a list of dictionaries using Lambda Function\n",
    "## We need to sort this list based on ascending order of the age\n",
    "\n",
    "list1 = [{\"name\":\"John\",\"class\":10,\"age\":16}, {\"name\":\"Drake\",\"class\":12,\"age\":18}, {\"name\":\"John\",\"class\":6,\"age\":12}]\n",
    "list1.sort(key = lambda x: x[\"age\"])\n",
    "print(list1)"
   ]
  }
 ],
 "metadata": {
  "kernelspec": {
   "display_name": "Python 3 (ipykernel)",
   "language": "python",
   "name": "python3"
  },
  "language_info": {
   "codemirror_mode": {
    "name": "ipython",
    "version": 3
   },
   "file_extension": ".py",
   "mimetype": "text/x-python",
   "name": "python",
   "nbconvert_exporter": "python",
   "pygments_lexer": "ipython3",
   "version": "3.9.7"
  }
 },
 "nbformat": 4,
 "nbformat_minor": 5
}
