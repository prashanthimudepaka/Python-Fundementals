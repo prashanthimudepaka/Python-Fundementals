{
 "cells": [
  {
   "attachments": {},
   "cell_type": "markdown",
   "metadata": {},
   "source": [
    "## Operations in Strings:\n",
    "1. Accessing elements\n",
    "2. Finding elements\n",
    "3. Slicing elements\n",
    "4. Repetition Counts\n",
    "5. Case Changes\n",
    "6. .is Method\n",
    "7. Starts & Ends With \n",
    "8. Replace\n",
    "9. Maketrans & Translate\n",
    "10. Partition & Split\n",
    "11. Strip\n",
    "12. Join\n",
    "\n",
    "### 1. Accessing Elements \n",
    "* First letter starts from index ==> 0\n",
    "* Second letter index ==> 1 and so on...\n",
    "* Last letter index ==> -1 (also)"
   ]
  },
  {
   "cell_type": "code",
   "execution_count": 1,
   "metadata": {},
   "outputs": [
    {
     "name": "stdout",
     "output_type": "stream",
     "text": [
      "H\n",
      "e\n",
      "o\n",
      "d\n"
     ]
    }
   ],
   "source": [
    "s = \"Hello World\"\n",
    "\n",
    "print(s[0])\n",
    "print(s[1])\n",
    "print(s[7])\n",
    "print(s[-1])"
   ]
  },
  {
   "cell_type": "markdown",
   "metadata": {},
   "source": [
    "### 2. Finding Elements\n",
    "* .find() and .index() are used for this purpose\n",
    "* Both the methods finds starting point of the required text\n",
    "* The only difference is that .find() returns -1 if the substring is not found, while index() throws an exception(ie error)\n",
    "* Therefore .find() ==> better option"
   ]
  },
  {
   "cell_type": "code",
   "execution_count": 2,
   "metadata": {},
   "outputs": [
    {
     "name": "stdout",
     "output_type": "stream",
     "text": [
      "7\n",
      "7\n"
     ]
    }
   ],
   "source": [
    "s = \"Hello World\"\n",
    "\n",
    "print(s.find(\"or\"))\n",
    "print(s.index(\"or\"))"
   ]
  },
  {
   "cell_type": "code",
   "execution_count": 3,
   "metadata": {},
   "outputs": [
    {
     "name": "stdout",
     "output_type": "stream",
     "text": [
      "2\n",
      "9\n",
      "2\n",
      "9\n"
     ]
    }
   ],
   "source": [
    "# .find()  ==> return the index of the FIRST match. \n",
    "# .rfind() ==> return the index of the LAST match.\n",
    "# Same for .rindex\n",
    "\n",
    "#Example\n",
    "\n",
    "s = \"Hello World\"\n",
    "\n",
    "print(s.find(\"l\"))\n",
    "print(s.rfind(\"l\"))\n",
    "\n",
    "print(s.index(\"l\"))\n",
    "print(s.rindex(\"l\"))"
   ]
  },
  {
   "cell_type": "markdown",
   "metadata": {},
   "source": [
    "### 3. Slicing Elements "
   ]
  },
  {
   "cell_type": "code",
   "execution_count": 4,
   "metadata": {},
   "outputs": [
    {
     "name": "stdout",
     "output_type": "stream",
     "text": [
      "Printing all elements                  ==> 0123456789\n",
      "Printing all elements in reverse order ==> 9876543210\n",
      "Printing elements having indices 2,3,4 ==> 234\n",
      "Printing elements having indices 2,4   ==> 24\n",
      "Printing elements having indices -5,-4 ==> 56\n",
      "Printing elements from -5 to end       ==> 56789\n",
      "Printing elements from -5 to front in reverse way ==> 543210\n"
     ]
    }
   ],
   "source": [
    "# Returns a range of characters\n",
    "# s[:]  ==>   prints all elements\n",
    "# s[::-1] ==> prints all elements in reverse order\n",
    "# s[2:5]  ==>  prints elements having indices 2,3,4 (i.e. last element is omitted)\n",
    "# s[2:5:2] ==> prints elements having indices 2,  4 (i.e. every alternate element)\n",
    "# s[-5:-3] ==> prints elements having indices -5,-4\n",
    "# s[-5:]  ==>   prints elements from -5 to end\n",
    "# s[-5::-1] ==> prints elements from -5 to front in reverse way\n",
    "\n",
    "# Example:\n",
    "\n",
    "s = \"0123456789\"\n",
    "\n",
    "print(\"Printing all elements                  ==>\",s[:])\n",
    "print(\"Printing all elements in reverse order ==>\",s[::-1])\n",
    "print(\"Printing elements having indices 2,3,4 ==>\",s[2:5])\n",
    "print(\"Printing elements having indices 2,4   ==>\",s[2:5:2])\n",
    "print(\"Printing elements having indices -5,-4 ==>\", s[-5:-3])\n",
    "print(\"Printing elements from -5 to end       ==>\",s[-5:])\n",
    "print(\"Printing elements from -5 to front in reverse way ==>\",s[-5::-1])"
   ]
  },
  {
   "cell_type": "markdown",
   "metadata": {},
   "source": [
    "### 4. Repetition Count"
   ]
  },
  {
   "cell_type": "code",
   "execution_count": 5,
   "metadata": {},
   "outputs": [
    {
     "name": "stdout",
     "output_type": "stream",
     "text": [
      "Number of times l  occurs ==> 3\n",
      "Number of times ll occurs ==> 1\n"
     ]
    }
   ],
   "source": [
    "# Counts no of times the text get repeated\n",
    "# s.count(\"l\")  ==> 3\n",
    "# s.count(\"ll\") ==> 1\n",
    "\n",
    "# Example:\n",
    "\n",
    "s = \"Hello World\"\n",
    "\n",
    "print(\"Number of times l  occurs ==>\",s.count(\"l\"))\n",
    "print(\"Number of times ll occurs ==>\",s.count(\"ll\"))"
   ]
  },
  {
   "cell_type": "markdown",
   "metadata": {},
   "source": [
    "### 5. Case Changes"
   ]
  },
  {
   "cell_type": "code",
   "execution_count": 6,
   "metadata": {},
   "outputs": [
    {
     "name": "stdout",
     "output_type": "stream",
     "text": [
      "HELLO WORLD\n",
      "hello world\n",
      "Hello world\n",
      "Hello World\n",
      "hELLO wORLD\n"
     ]
    }
   ],
   "source": [
    "# s.upper() ==> HELLO WORLD\n",
    "# s.lower() ==> hello world\n",
    "# s.capitalize() ==> Hello world\n",
    "# s.title() ==> Hello World (Converts the first character in each word to Uppercase and remaining characters to Lowercase)\n",
    "# s.swapcase() ==> Swaps cases ie upper --> lower and vice-versa\n",
    "\n",
    "#Example\n",
    "\n",
    "s = \"Hello World\"\n",
    "\n",
    "print(s.upper())\n",
    "print(s.lower())\n",
    "print(s.capitalize())\n",
    "print(s.title())\n",
    "print(s.swapcase())"
   ]
  },
  {
   "cell_type": "markdown",
   "metadata": {},
   "source": [
    "### 6. .is Methods"
   ]
  },
  {
   "cell_type": "code",
   "execution_count": 7,
   "metadata": {},
   "outputs": [],
   "source": [
    "a = \"hello5\"\n",
    "b = \"hello\"\n",
    "c = \"06\"\n",
    "d = \"hello@\""
   ]
  },
  {
   "cell_type": "markdown",
   "metadata": {},
   "source": [
    "#### i) .isalnum() ==> [Alphabet + Numeric] text should have (alphabets) or (numbers) or (both) BUT nothing else"
   ]
  },
  {
   "cell_type": "code",
   "execution_count": 8,
   "metadata": {},
   "outputs": [
    {
     "name": "stdout",
     "output_type": "stream",
     "text": [
      "True\n",
      "True\n",
      "True\n",
      "False\n"
     ]
    }
   ],
   "source": [
    "print(a.isalnum())\n",
    "print(b.isalnum())\n",
    "print(c.isalnum())\n",
    "print(d.isalnum())"
   ]
  },
  {
   "cell_type": "markdown",
   "metadata": {},
   "source": [
    "#### ii) .isalpha() ==> [Alphabet] text should have only alphabets AND nothing else"
   ]
  },
  {
   "cell_type": "code",
   "execution_count": 9,
   "metadata": {},
   "outputs": [
    {
     "name": "stdout",
     "output_type": "stream",
     "text": [
      "False\n",
      "True\n",
      "False\n",
      "False\n"
     ]
    }
   ],
   "source": [
    "print(a.isalpha())\n",
    "print(b.isalpha())\n",
    "print(c.isalpha())\n",
    "print(d.isalpha())"
   ]
  },
  {
   "cell_type": "markdown",
   "metadata": {},
   "source": [
    "#### iii) .isdigit() ==> text should have only digit AND nothing else"
   ]
  },
  {
   "cell_type": "code",
   "execution_count": 10,
   "metadata": {},
   "outputs": [
    {
     "name": "stdout",
     "output_type": "stream",
     "text": [
      "False\n",
      "False\n",
      "True\n",
      "False\n"
     ]
    }
   ],
   "source": [
    "print(a.isdigit())\n",
    "print(b.isdigit())\n",
    "print(c.isdigit())\n",
    "print(d.isdigit())"
   ]
  },
  {
   "cell_type": "markdown",
   "metadata": {},
   "source": [
    "### Q) Write a program to print the number of consonants, vowels and numbers in a given string"
   ]
  },
  {
   "cell_type": "code",
   "execution_count": 11,
   "metadata": {},
   "outputs": [
    {
     "name": "stdout",
     "output_type": "stream",
     "text": [
      "Vowels ==> 2\n",
      "Consonants ==> 3\n",
      "Digits ==> 2\n"
     ]
    }
   ],
   "source": [
    "string = \"Hello 65\"\n",
    "\n",
    "# Initializing the variables\n",
    "vowel = 0\n",
    "consonant = 0\n",
    "digits = 0\n",
    "sp_char = 0\n",
    "\n",
    "# Master Loop\n",
    "for i in string:\n",
    "    \n",
    "    # Loop to find Alphabets and thereby Vowels & Consonants\n",
    "    if i.isalpha():\n",
    "        if i in [\"a\", \"e\", \"i\", \"o\", \"u\"]:\n",
    "            vowel += 1\n",
    "        else:\n",
    "            consonant += 1\n",
    "    \n",
    "    # Loop to find Digits\n",
    "    elif i.isdigit():\n",
    "         digits += 1\n",
    "    \n",
    "    # Loop to find Special Characters\n",
    "    else:\n",
    "         sp_char += 1\n",
    "\n",
    "# Print\n",
    "print(\"Vowels ==>\",vowel)\n",
    "print(\"Consonants ==>\",consonant)\n",
    "print(\"Digits ==>\",digits)"
   ]
  },
  {
   "cell_type": "markdown",
   "metadata": {},
   "source": [
    "### 7. Starts and Ends With"
   ]
  },
  {
   "cell_type": "code",
   "execution_count": 12,
   "metadata": {},
   "outputs": [
    {
     "name": "stdout",
     "output_type": "stream",
     "text": [
      "True\n",
      "True\n",
      "True\n"
     ]
    }
   ],
   "source": [
    "# Checks for text if matches the starting / ending text\n",
    "\n",
    "s = \"Hello World\"\n",
    "\n",
    "print(s.endswith(\"World\"))\n",
    "print(s.endswith(\"ld\"))\n",
    "\n",
    "print(s.startswith(\"He\"))"
   ]
  },
  {
   "cell_type": "markdown",
   "metadata": {},
   "source": [
    "### 8. Replace"
   ]
  },
  {
   "cell_type": "code",
   "execution_count": 13,
   "metadata": {},
   "outputs": [],
   "source": [
    "s = \"Hello\""
   ]
  },
  {
   "cell_type": "code",
   "execution_count": 14,
   "metadata": {},
   "outputs": [
    {
     "name": "stdout",
     "output_type": "stream",
     "text": [
      "Yillo\n"
     ]
    }
   ],
   "source": [
    "# Replaces a string with another\n",
    "\n",
    "print(s.replace(\"He\",\"Yi\"))"
   ]
  },
  {
   "cell_type": "code",
   "execution_count": 15,
   "metadata": {},
   "outputs": [
    {
     "name": "stdout",
     "output_type": "stream",
     "text": [
      "Hoxxo\n"
     ]
    }
   ],
   "source": [
    "# Incase of repeated replacements (say e->o; l->x) ie Hello ==> Hoxxo\n",
    "\n",
    "print (s.replace(\"e\",\"o\").replace(\"l\",\"x\"))"
   ]
  },
  {
   "cell_type": "code",
   "execution_count": 16,
   "metadata": {},
   "outputs": [
    {
     "name": "stdout",
     "output_type": "stream",
     "text": [
      "Hxxxx\n"
     ]
    }
   ],
   "source": [
    "# However if ==> (e->o, o->l, l->x) ie Hello ==> Hoxxl \n",
    "\n",
    "print (s.replace(\"e\",\"o\").replace(\"o\",\"l\").replace(\"l\",\"x\"))"
   ]
  },
  {
   "cell_type": "code",
   "execution_count": 17,
   "metadata": {},
   "outputs": [],
   "source": [
    "# ie output ==> Hxxxx instead of Hoxxl.\n",
    "# This is because each replace method operates individually from left and not simultaneously.\n",
    "# In order to mend this we use ==> .maketrans() and .translate()"
   ]
  },
  {
   "cell_type": "markdown",
   "metadata": {},
   "source": [
    "### 9. Maketrans and Translate"
   ]
  },
  {
   "cell_type": "code",
   "execution_count": 18,
   "metadata": {},
   "outputs": [],
   "source": [
    "s = \"Hello\""
   ]
  },
  {
   "cell_type": "code",
   "execution_count": 19,
   "metadata": {},
   "outputs": [
    {
     "name": "stdout",
     "output_type": "stream",
     "text": [
      "Required dict created ==> {101: 111, 111: 108, 108: 120}\n",
      "Hoxxl\n"
     ]
    }
   ],
   "source": [
    "# Method 1 ==> Using String\n",
    "\n",
    "d = s.maketrans(\"eol\",\"olx\")\n",
    "print(\"Required dict created ==>\",d)\n",
    "\n",
    "print(s.translate(d))"
   ]
  },
  {
   "cell_type": "code",
   "execution_count": 20,
   "metadata": {},
   "outputs": [
    {
     "name": "stdout",
     "output_type": "stream",
     "text": [
      "Required dict created ==> {101: 'o', 111: 'l', 108: 'x'}\n",
      "Hoxxl\n"
     ]
    }
   ],
   "source": [
    "# Method 2 ==> Using Dictionary\n",
    "\n",
    "d = s.maketrans({\"e\":\"o\",\"o\":\"l\",\"l\":\"x\"})\n",
    "print(\"Required dict created ==>\",d)\n",
    "\n",
    "print(s.translate(d))"
   ]
  },
  {
   "cell_type": "markdown",
   "metadata": {},
   "source": [
    "#### Actual syntax ==> string.maketrans(\"elements to be replaced\", \"replaced elements\", \"elements to be ignored\")"
   ]
  },
  {
   "cell_type": "code",
   "execution_count": 21,
   "metadata": {},
   "outputs": [
    {
     "name": "stdout",
     "output_type": "stream",
     "text": [
      "Required dict created ==> {101: 111, 111: 108, 108: 120, 72: None}\n",
      "oxxl\n"
     ]
    }
   ],
   "source": [
    "# Method 3 ==> Make some other string disappear\n",
    "\n",
    "d = s.maketrans(\"eol\",\"olx\",\"H\")  # Since H isn't mapped, therefore it disappears\n",
    "print(\"Required dict created ==>\",d)\n",
    "\n",
    "print(s.translate(d))"
   ]
  },
  {
   "cell_type": "markdown",
   "metadata": {},
   "source": [
    "### 10. Partition and Split\n",
    "* Partition ==> Splits based on text BUT also **keeps** the text\n",
    "* Split     ==> Splits based on text BUT **doesn't keep** the text"
   ]
  },
  {
   "cell_type": "code",
   "execution_count": 22,
   "metadata": {},
   "outputs": [
    {
     "name": "stdout",
     "output_type": "stream",
     "text": [
      "('H', 'e', 'llo World')\n",
      "['H', 'llo World']\n"
     ]
    }
   ],
   "source": [
    "s = \"Hello World\"\n",
    "\n",
    "print(s.partition(\"e\"))\n",
    "print(s.split(\"e\"))"
   ]
  },
  {
   "cell_type": "code",
   "execution_count": 23,
   "metadata": {},
   "outputs": [
    {
     "name": "stdout",
     "output_type": "stream",
     "text": [
      "['He', '', 'o Wor', 'd']\n",
      "['He', 'lo World']\n",
      "['Hello Wor', 'd']\n"
     ]
    }
   ],
   "source": [
    "# For split ==> max no of elements to be split can be mentioned\n",
    "\n",
    "print(s.split(\"l\"))\n",
    "print(s.split(\"l\",1))\n",
    "\n",
    "# .rsplit() ==> splits from right-side\n",
    "\n",
    "print(s.rsplit(\"l\",1))"
   ]
  },
  {
   "cell_type": "code",
   "execution_count": 24,
   "metadata": {},
   "outputs": [
    {
     "name": "stdout",
     "output_type": "stream",
     "text": [
      "('He', 'l', 'lo World')\n",
      "('Hello Wor', 'l', 'd')\n"
     ]
    }
   ],
   "source": [
    "# .rpartition() ==> parts from right-side\n",
    "\n",
    "print(s.partition(\"l\"))\n",
    "print(s.rpartition(\"l\"))"
   ]
  },
  {
   "cell_type": "markdown",
   "metadata": {},
   "source": [
    "### 11. Strip\n",
    "* Strip ==> Removes mentioned-elements from the beginning and end of the string.\n",
    "* .lstrip ==> Removes mentioned-elements from the beginning only\n",
    "* .rstrip ==> Removes mentioned-elements from the end only"
   ]
  },
  {
   "cell_type": "code",
   "execution_count": 25,
   "metadata": {},
   "outputs": [
    {
     "name": "stdout",
     "output_type": "stream",
     "text": [
      "!!!!Hello World!!!!\n",
      "Hello World\n",
      "!!!!Hello World\n",
      "Hello World!!!!\n"
     ]
    }
   ],
   "source": [
    "# Example 1:\n",
    "\n",
    "x = \"!!!!Hello World!!!!\"\n",
    "print(x)\n",
    "print(x.strip(\"!\"))\n",
    "print(x.rstrip(\"!\"))\n",
    "print(x.lstrip(\"!\"))"
   ]
  },
  {
   "cell_type": "code",
   "execution_count": 26,
   "metadata": {},
   "outputs": [
    {
     "name": "stdout",
     "output_type": "stream",
     "text": [
      "  Hello World  \n",
      "Hello World\n",
      "  Hello World\n",
      "Hello World  \n"
     ]
    }
   ],
   "source": [
    "# Example 2:\n",
    "\n",
    "x = \"  Hello World  \"\n",
    "print(x)\n",
    "print(x.strip())\n",
    "print(x.rstrip())\n",
    "print(x.lstrip())"
   ]
  },
  {
   "cell_type": "markdown",
   "metadata": {},
   "source": [
    "### 12. Join\n",
    "Used to Concatenate any number of strings with given elements"
   ]
  },
  {
   "cell_type": "code",
   "execution_count": 27,
   "metadata": {},
   "outputs": [
    {
     "name": "stdout",
     "output_type": "stream",
     "text": [
      "P y t h o n\n",
      "P_y_t_h_o_n\n",
      "Poyotohooon\n"
     ]
    }
   ],
   "source": [
    "print(\" \".join(\"Python\"))\n",
    "print(\"_\".join(\"Python\"))\n",
    "print(\"o\".join(\"Python\"))"
   ]
  },
  {
   "cell_type": "code",
   "execution_count": 28,
   "metadata": {},
   "outputs": [
    {
     "name": "stdout",
     "output_type": "stream",
     "text": [
      "1-2-3-4\n",
      "1.2.3.4\n"
     ]
    }
   ],
   "source": [
    "list1 = ['1','2','3','4']\n",
    "\n",
    "a = \"-\"\n",
    "b = \".\"\n",
    "\n",
    "print(a.join(list1))\n",
    "print(b.join(list1))"
   ]
  },
  {
   "cell_type": "markdown",
   "metadata": {},
   "source": [
    "## ==> Split and Join are opposite in nature"
   ]
  },
  {
   "cell_type": "code",
   "execution_count": 29,
   "metadata": {},
   "outputs": [
    {
     "data": {
      "text/plain": [
       "['This', 'will', 'split', 'all', 'words', 'in', 'a', 'list']"
      ]
     },
     "execution_count": 29,
     "metadata": {},
     "output_type": "execute_result"
    }
   ],
   "source": [
    "\"This will split all words in a list\".split()"
   ]
  },
  {
   "cell_type": "code",
   "execution_count": 30,
   "metadata": {},
   "outputs": [
    {
     "data": {
      "text/plain": [
       "'This will split all words in a list'"
      ]
     },
     "execution_count": 30,
     "metadata": {},
     "output_type": "execute_result"
    }
   ],
   "source": [
    "' '.join(['This', 'will', 'split', 'all', 'words', 'in', 'a', 'list'])"
   ]
  }
 ],
 "metadata": {
  "kernelspec": {
   "display_name": "Python 3 (ipykernel)",
   "language": "python",
   "name": "python3"
  },
  "language_info": {
   "codemirror_mode": {
    "name": "ipython",
    "version": 3
   },
   "file_extension": ".py",
   "mimetype": "text/x-python",
   "name": "python",
   "nbconvert_exporter": "python",
   "pygments_lexer": "ipython3",
   "version": "3.9.7"
  }
 },
 "nbformat": 4,
 "nbformat_minor": 2
}
