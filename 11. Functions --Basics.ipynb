{
 "cells": [
  {
   "cell_type": "markdown",
   "metadata": {},
   "source": [
    "# Functions\n",
    "### ==> Functions allow re-usability of codes and thereby reduces redundancy\n",
    "## Types:\n",
    "* **User-Defined** ==> Creating your own function\n",
    "* **In-Built** ==> Pre-defined functions"
   ]
  },
  {
   "cell_type": "code",
   "execution_count": 1,
   "metadata": {},
   "outputs": [
    {
     "data": {
      "text/plain": [
       "6"
      ]
     },
     "execution_count": 1,
     "metadata": {},
     "output_type": "execute_result"
    }
   ],
   "source": [
    "# Defining a function\n",
    "\n",
    "def demo_func(a):\n",
    "    b = 2\n",
    "    prod = a*b\n",
    "    return prod\n",
    "\n",
    "\n",
    "# Calling the function\n",
    "demo_func(3)"
   ]
  },
  {
   "cell_type": "markdown",
   "metadata": {},
   "source": [
    "### Note:\n",
    "* Once you enter the **return** keyword, the function immediately stops being executed\n",
    "* Any code after the return statement will never happen\n",
    "* See the following 2 examples"
   ]
  },
  {
   "cell_type": "code",
   "execution_count": 2,
   "metadata": {},
   "outputs": [
    {
     "name": "stdout",
     "output_type": "stream",
     "text": [
      "This is Example 2\n"
     ]
    },
    {
     "data": {
      "text/plain": [
       "23"
      ]
     },
     "execution_count": 2,
     "metadata": {},
     "output_type": "execute_result"
    }
   ],
   "source": [
    "# Example 1\n",
    "\n",
    "def add_numbers(x, y):\n",
    "    total = x + y\n",
    "    print(\"This is Example 2\")\n",
    "    return total\n",
    "\n",
    "add_numbers(4, 19)"
   ]
  },
  {
   "cell_type": "code",
   "execution_count": 3,
   "metadata": {},
   "outputs": [
    {
     "data": {
      "text/plain": [
       "4"
      ]
     },
     "execution_count": 3,
     "metadata": {},
     "output_type": "execute_result"
    }
   ],
   "source": [
    "# Example 2\n",
    "\n",
    "def add_numbers(x, y):\n",
    "    total = x + y\n",
    "    return 4   # Additional return. Function stops execution \n",
    "    print(\"This is Example 1\")\n",
    "    return total\n",
    "  \n",
    "add_numbers(4, 19)"
   ]
  },
  {
   "cell_type": "markdown",
   "metadata": {},
   "source": [
    "# Agenda:\n",
    "1) **Parameters / Arguments**\n",
    "\n",
    "    1. No parameter can be passed, i.e. a function can be created without passing any parameter\n",
    "    2. One parameter can be passed\n",
    "    3. Multiple parameters can be passed\n",
    "    4. Default parameter can be passed\n",
    "    5. Any data-structure can be passed as a parameter\n",
    "    6. Args and Kwargs\n",
    "\n",
    "2) **Anonymous Functions** ==> **Lambda Function**\n",
    "\n",
    "3) **Special Functions**\n",
    "\n",
    "   1. Filter\n",
    "   2. Map\n",
    "   3. Reduce\n",
    "   4. Zip\n",
    "   \n",
    "4) **Comprehensions**\n",
    "\n",
    "    1. List Comprehension\n",
    "    2. Dictionary Comprehension\n",
    "\n",
    "5) **In-Built Functions**\n",
    "\n",
    "    1. Aggregate Functions\n",
    "    2. Analytical Functions\n",
    "\n",
    "## 1) Parameters / Arguments\n",
    "1. No parameter can be passed, i.e. a function can be created without passing any parameter\n",
    "2. One parameter can be passed\n",
    "3. Multiple parameters can be passed\n",
    "4. Default parameter can be passed\n",
    "5. Any data-structure can be passed as a parameter\n",
    "6. Args and Kwargs\n",
    "\n",
    "### 1. Without any parameter\n",
    "If **no parameter** is passed while function construction, it should also be called during function calling"
   ]
  },
  {
   "cell_type": "code",
   "execution_count": 4,
   "metadata": {},
   "outputs": [
    {
     "name": "stdout",
     "output_type": "stream",
     "text": [
      "Hello\n"
     ]
    }
   ],
   "source": [
    "def func():\n",
    "    print(\"Hello\")\n",
    "\n",
    "func()"
   ]
  },
  {
   "cell_type": "markdown",
   "metadata": {},
   "source": [
    "### 2. With one parameter\n",
    "If **a parameter** is passed while function construction, it should also be called during function calling"
   ]
  },
  {
   "cell_type": "code",
   "execution_count": 5,
   "metadata": {},
   "outputs": [
    {
     "data": {
      "text/plain": [
       "'Welcome Steve'"
      ]
     },
     "execution_count": 5,
     "metadata": {},
     "output_type": "execute_result"
    }
   ],
   "source": [
    "def func(name):\n",
    "    return \"Welcome \" + name\n",
    "\n",
    "func(\"Steve\")"
   ]
  },
  {
   "cell_type": "markdown",
   "metadata": {},
   "source": [
    "### 3. With multiple parameters\n",
    "If **multiple parameters** is passed while function construction, they should also be called during function calling"
   ]
  },
  {
   "cell_type": "code",
   "execution_count": 6,
   "metadata": {},
   "outputs": [
    {
     "data": {
      "text/plain": [
       "14"
      ]
     },
     "execution_count": 6,
     "metadata": {},
     "output_type": "execute_result"
    }
   ],
   "source": [
    "def func(a,b,c):\n",
    "    return a+b*c\n",
    "\n",
    "func(4,5,2)"
   ]
  },
  {
   "cell_type": "markdown",
   "metadata": {},
   "source": [
    "### 4. Default Parameter \n",
    "If **DEFAULT parameter** is set while function construction, it is NOT necessary to call the parameter during function calling"
   ]
  },
  {
   "cell_type": "code",
   "execution_count": 7,
   "metadata": {},
   "outputs": [
    {
     "name": "stdout",
     "output_type": "stream",
     "text": [
      "I am from India\n",
      "I am from Spain\n"
     ]
    }
   ],
   "source": [
    "def func(country = \"India\"):\n",
    "    return f\"I am from {country}\"\n",
    "\n",
    "print(func())         # Default will be printed\n",
    "print(func(\"Spain\"))  # Changed parameter will be printed "
   ]
  },
  {
   "cell_type": "markdown",
   "metadata": {},
   "source": [
    "### 5. Data Structures as Parameter\n",
    "* Any data-structure can be passed as a parameter\n",
    "* Here, we are passing a **List** as a Parameter"
   ]
  },
  {
   "cell_type": "code",
   "execution_count": 8,
   "metadata": {},
   "outputs": [
    {
     "name": "stdout",
     "output_type": "stream",
     "text": [
      "Apple\n",
      "Banana\n",
      "2\n"
     ]
    }
   ],
   "source": [
    "def func(food):\n",
    "    for i in food:\n",
    "        #return i   # RETURN here will not work as it will return only the first element\n",
    "        print(i)    # PRINT on the other hand will print all the elements in the list\n",
    "\n",
    "fruits = [\"Apple\", \"Banana\", 2]\n",
    "func(fruits)"
   ]
  },
  {
   "cell_type": "markdown",
   "metadata": {},
   "source": [
    "### 6. \\*Args and **Kwargs\n",
    "* If you're unsure about the number of parameters to be passed, use args & kwargs\n",
    "* **\\*args ==>** **Non-Keyword Argument ==>** Gives o/p in the form of **Tuple**\n",
    "* ** **kwargs ==>** **Keyword Argument ==>** Gives o/p in the form of **Dictionary**"
   ]
  },
  {
   "cell_type": "code",
   "execution_count": 9,
   "metadata": {},
   "outputs": [
    {
     "name": "stdout",
     "output_type": "stream",
     "text": [
      "('Math', 'Arts', 2)\n",
      "{'name': 'John', 'age': 24}\n",
      "Name is John\n"
     ]
    }
   ],
   "source": [
    "def student(*args, **kwargs):\n",
    "    print(args)\n",
    "    print(kwargs)\n",
    "    print(\"Name is \" + kwargs[\"name\"])\n",
    "    \n",
    "student(\"Math\", \"Arts\", 2, name = \"John\", age = 24)"
   ]
  },
  {
   "cell_type": "code",
   "execution_count": 10,
   "metadata": {},
   "outputs": [
    {
     "name": "stdout",
     "output_type": "stream",
     "text": [
      "(('Math', 'Arts', 2), {'name': 'John', 'age': 24})\n",
      "{}\n"
     ]
    }
   ],
   "source": [
    "# However, if we pack the items in data-strucures and call them by variable-name ==> Expected o/p isn't received\n",
    "\n",
    "def student(*args, **kwargs):\n",
    "    print(args)\n",
    "    print(kwargs)\n",
    "    \n",
    "courses = ('Math', 'Arts', 2)\n",
    "info = {'name': 'John', 'age': 24}\n",
    "\n",
    "student(courses, info)"
   ]
  },
  {
   "cell_type": "code",
   "execution_count": 11,
   "metadata": {},
   "outputs": [
    {
     "name": "stdout",
     "output_type": "stream",
     "text": [
      "('Math', 'Arts', 2)\n",
      "{'name': 'John', 'age': 24}\n"
     ]
    }
   ],
   "source": [
    "# We can get our desired o/p by unpacking these data-structures\n",
    "# * ==> for tuple\n",
    "# ** ==> for dictionary\n",
    "\n",
    "def student(*args, **kwargs):\n",
    "    print(args)\n",
    "    print(kwargs)\n",
    "    \n",
    "courses = ('Math', 'Arts', 2)\n",
    "info = {'name': 'John', 'age': 24}\n",
    "\n",
    "student(*courses, **info)  # Unpacking "
   ]
  }
 ],
 "metadata": {
  "kernelspec": {
   "display_name": "Python 3 (ipykernel)",
   "language": "python",
   "name": "python3"
  },
  "language_info": {
   "codemirror_mode": {
    "name": "ipython",
    "version": 3
   },
   "file_extension": ".py",
   "mimetype": "text/x-python",
   "name": "python",
   "nbconvert_exporter": "python",
   "pygments_lexer": "ipython3",
   "version": "3.9.7"
  }
 },
 "nbformat": 4,
 "nbformat_minor": 2
}
