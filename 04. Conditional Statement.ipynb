{
 "cells": [
  {
   "cell_type": "markdown",
   "id": "b42cde64",
   "metadata": {},
   "source": [
    "## Conditional statements present in python are:\n",
    "1. If-Else\n",
    "2. Nested If\n",
    "3. Nested If-Else (Elif)"
   ]
  },
  {
   "cell_type": "code",
   "execution_count": 1,
   "id": "ffdda3fd",
   "metadata": {},
   "outputs": [
    {
     "name": "stdout",
     "output_type": "stream",
     "text": [
      "Greater than 10\n"
     ]
    }
   ],
   "source": [
    "# If-Else\n",
    "\n",
    "x = 40\n",
    "if x > 10:\n",
    "    print(\"Greater than 10\")\n",
    "else:\n",
    "    print(\"Less than 10\")"
   ]
  },
  {
   "cell_type": "code",
   "execution_count": 2,
   "id": "c0e41495",
   "metadata": {},
   "outputs": [
    {
     "name": "stdout",
     "output_type": "stream",
     "text": [
      "Greater than 10\n",
      "Greater than 20\n",
      "Greater than 30\n"
     ]
    }
   ],
   "source": [
    "# Nested If\n",
    "\n",
    "x = 40\n",
    "if x > 10:\n",
    "    print(\"Greater than 10\")\n",
    "    if x > 20:\n",
    "        print(\"Greater than 20\")\n",
    "        if x > 30:\n",
    "            print(\"Greater than 30\")\n",
    "else:\n",
    "    print(\"Less than 10\")"
   ]
  },
  {
   "cell_type": "code",
   "execution_count": 3,
   "id": "40517497",
   "metadata": {},
   "outputs": [
    {
     "name": "stdout",
     "output_type": "stream",
     "text": [
      "Greater than 10\n"
     ]
    }
   ],
   "source": [
    "# Nested If-Else\n",
    "\n",
    "x = 40\n",
    "if x > 10:\n",
    "    print(\"Greater than 10\")\n",
    "elif x > 20:\n",
    "    print(\"Greater than 20\")\n",
    "elif x > 30:\n",
    "    print(\"Greater than 30\")\n",
    "else:\n",
    "    print(\"Less than 10\")"
   ]
  }
 ],
 "metadata": {
  "kernelspec": {
   "display_name": "Python 3 (ipykernel)",
   "language": "python",
   "name": "python3"
  },
  "language_info": {
   "codemirror_mode": {
    "name": "ipython",
    "version": 3
   },
   "file_extension": ".py",
   "mimetype": "text/x-python",
   "name": "python",
   "nbconvert_exporter": "python",
   "pygments_lexer": "ipython3",
   "version": "3.9.7"
  }
 },
 "nbformat": 4,
 "nbformat_minor": 5
}
