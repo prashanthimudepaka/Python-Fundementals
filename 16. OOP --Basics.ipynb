{
 "cells": [
  {
   "cell_type": "markdown",
   "id": "f9f51904",
   "metadata": {},
   "source": [
    "# Object-Oriented-Programming (OOP)\n",
    "* **Class:** Logical entity that acts as a prototype to create objects i.e. a **blueprint** of objects\n",
    "* **Objects:** Collections of variables and functions\n",
    "\n",
    "**Advantages of using a class:**\n",
    "1. More organised way of data-keeping\n",
    "2. Re-usability of code\n",
    "\n",
    "## Agenda\n",
    "1. **Creating Classes**\n",
    "2. **\\_\\_init\\_\\_ method**\n",
    "3. **Adding functions in the Class**\n",
    "4. **Variables**\n",
    "\n",
    "## 1. Creating a Class"
   ]
  },
  {
   "cell_type": "code",
   "execution_count": 1,
   "id": "7d35bdfa",
   "metadata": {},
   "outputs": [
    {
     "name": "stdout",
     "output_type": "stream",
     "text": [
      "25\n",
      "25\n"
     ]
    }
   ],
   "source": [
    "# Creating a Class\n",
    "class Person:\n",
    "    age = 25\n",
    "    \n",
    "# Creating Object of the Class\n",
    "Nikhil = Person()\n",
    "\n",
    "\n",
    "## Calling the Class\n",
    "print(Person.age)\n",
    "\n",
    "## Calling the Object\n",
    "print(Nikhil.age)"
   ]
  },
  {
   "cell_type": "markdown",
   "id": "48138a32",
   "metadata": {},
   "source": [
    "### 2. The \\_\\_init\\_\\_ Method\n",
    "* The \\_\\_init\\_\\_ method lets the class initialize the object's attributes and serves no other purpose  \n",
    "* The \\_\\_init\\_\\_ method is called every time an object is created from a class                                          \n",
    "* **self** parameter (used inside the \\_\\_init\\_\\_ method) is the reference to the current object and is used to access variables of the class parameter         "
   ]
  },
  {
   "cell_type": "code",
   "execution_count": 2,
   "id": "fe178539",
   "metadata": {},
   "outputs": [
    {
     "name": "stdout",
     "output_type": "stream",
     "text": [
      "Nikhil.Dubey@company.com\n",
      "Yatharth.Raman@company.com\n"
     ]
    }
   ],
   "source": [
    "# Creating Class\n",
    "class Employee:\n",
    "    \n",
    "    def __init__(self, first, last):   \n",
    "        self.first = first\n",
    "        self.last  = last\n",
    "        self.email = f\"{first}.{last}@company.com\"\n",
    "\n",
    "        \n",
    "# Creating Objects\n",
    "emp_1 = Employee(\"Nikhil\", \"Dubey\")  \n",
    "emp_2 = Employee(\"Yatharth\", \"Raman\")\n",
    "\n",
    "\n",
    "# Calling the Objects\n",
    "print(emp_1.email)\n",
    "print(emp_2.email)"
   ]
  },
  {
   "cell_type": "code",
   "execution_count": 3,
   "id": "5ecc8046",
   "metadata": {},
   "outputs": [
    {
     "name": "stdout",
     "output_type": "stream",
     "text": [
      "{'first': 'Nikhil', 'last': 'Dubey', 'email': 'Nikhil.Dubey@company.com'}\n",
      "{'first': 'Yatharth', 'last': 'Raman', 'email': 'Yatharth.Raman@company.com'}\n",
      "\n",
      "{'first': 'Nikhil', 'last': 'Dubey'}\n",
      "{'first': 'Yatharth', 'last': 'Raman', 'email': 'Yatharth.Raman@company.com'}\n"
     ]
    }
   ],
   "source": [
    "## Deleting Object Properties\n",
    "\n",
    "# Creating Class\n",
    "class Employee:\n",
    "    \n",
    "    def __init__(self, first, last):   \n",
    "        self.first = first\n",
    "        self.last  = last\n",
    "        self.email = f\"{first}.{last}@company.com\"\n",
    "\n",
    "        \n",
    "# Creating Objects\n",
    "emp_1 = Employee(\"Nikhil\", \"Dubey\")  \n",
    "emp_2 = Employee(\"Yatharth\", \"Raman\")\n",
    "\n",
    "\n",
    "print(emp_1.__dict__)  # No Modifications made\n",
    "print(emp_2.__dict__)  # No Modifications made\n",
    "print()\n",
    "\n",
    "del emp_1.email          # MODIFICATION\n",
    "\n",
    "print(emp_1.__dict__)  # Modifications MADE\n",
    "print(emp_2.__dict__)  # No Modifications made"
   ]
  },
  {
   "cell_type": "code",
   "execution_count": 4,
   "id": "b798d248",
   "metadata": {},
   "outputs": [
    {
     "name": "stdout",
     "output_type": "stream",
     "text": [
      "0\n",
      "2\n"
     ]
    }
   ],
   "source": [
    "## The __init__ method is called every time an object is created from a class\n",
    "\n",
    "# Creating Class\n",
    "class Employee:\n",
    "    \n",
    "    num_of_emp = 0\n",
    "    \n",
    "    def __init__(self, first, last):   \n",
    "        self.first = first\n",
    "        self.last  = last\n",
    "        self.email = f\"{first}.{last}@company.com\"\n",
    "\n",
    "        Employee.num_of_emp += 1\n",
    "\n",
    "        \n",
    "print(Employee.num_of_emp)\n",
    "\n",
    "# Creating Objects\n",
    "emp_1 = Employee(\"Nikhil\", \"Dubey\")  \n",
    "emp_2 = Employee(\"Yatharth\", \"Raman\")\n",
    "\n",
    "print(Employee.num_of_emp)"
   ]
  },
  {
   "cell_type": "markdown",
   "id": "ac417dfa",
   "metadata": {},
   "source": [
    "### 3. Adding functions in the Class\n",
    "* **First Function** ==> full_name --> It returns the fullname of the employee concerned\n",
    "* **Second Function** ==> apply_raise --> It raises the pay-out of the concerned employee each time the func is run"
   ]
  },
  {
   "cell_type": "code",
   "execution_count": 5,
   "id": "9375dc52",
   "metadata": {},
   "outputs": [
    {
     "name": "stdout",
     "output_type": "stream",
     "text": [
      "Nikhil Dubey\n",
      "Initaial Salary: 60000\n",
      "Salary Now: 63000.0\n"
     ]
    }
   ],
   "source": [
    "# Creating Class\n",
    "class Employee:\n",
    "    \n",
    "    def __init__(self, first, last, pay):    \n",
    "        self.first = first\n",
    "        self.last  = last\n",
    "        self.pay   = pay\n",
    "               \n",
    "    def full_name(self):\n",
    "        return f\"{self.first} {self.last}\"   \n",
    "    \n",
    "    def apply_raise(self):\n",
    "        self.pay = self.pay * 1.05\n",
    "    \n",
    "\n",
    "# Creating Objects\n",
    "emp_1 = Employee(\"Nikhil\", \"Dubey\", 60000)  \n",
    "emp_2 = Employee(\"Yatharth\", \"Raman\", 50000)\n",
    "\n",
    "\n",
    "# Calling the Object\n",
    "print(emp_1.full_name())\n",
    "print(\"Initaial Salary:\", emp_1.pay)\n",
    "\n",
    "\n",
    "## Calling the Class Function again for change in o/p\n",
    "emp_1.apply_raise()\n",
    "print(\"Salary Now:\", emp_1.pay)"
   ]
  },
  {
   "cell_type": "markdown",
   "id": "5e587bb4",
   "metadata": {},
   "source": [
    "### 4. Variables\n",
    "* **Instance/Object Variables** can be **unique** for different instances\n",
    "* **Class Variables** should be the **same** for all instances "
   ]
  },
  {
   "cell_type": "code",
   "execution_count": 6,
   "id": "74a039c5",
   "metadata": {},
   "outputs": [
    {
     "name": "stdout",
     "output_type": "stream",
     "text": [
      "1.1\n",
      "1.2\n",
      "1.1\n",
      "1.1\n"
     ]
    }
   ],
   "source": [
    "# Creating Class\n",
    "class Employee:\n",
    "    \n",
    "    pay_raise = 1.05\n",
    "    \n",
    "    def __init__(self, first, last, pay):\n",
    "        self.first = first\n",
    "        self.last  = last\n",
    "        self.pay   = pay\n",
    "                \n",
    "    def apply_raise(self):\n",
    "        self.pay = self.pay * self.pay_raise \n",
    "    \n",
    "\n",
    "# Creating Objects\n",
    "emp_1 = Employee(\"Nikhil\", \"Dubey\", 50000)  \n",
    "emp_2 = Employee(\"Yatharth\", \"Raman\", 50000)\n",
    "emp_3 = Employee(\"Vasisth\", \"Singh\", 50000)\n",
    "\n",
    "\n",
    "# Class Variable\n",
    "Employee.pay_raise = 1.1\n",
    "\n",
    "# Instance Variable\n",
    "emp_1.pay_raise = 1.2\n",
    "\n",
    "\n",
    "print(Employee.pay_raise)\n",
    "print(emp_1.pay_raise)\n",
    "print(emp_2.pay_raise)\n",
    "print(emp_3.pay_raise)"
   ]
  },
  {
   "cell_type": "markdown",
   "id": "bf7fdbdd",
   "metadata": {},
   "source": [
    "### ==>  In the code snippet above:\n",
    "* **Employee.pay_raise** is a **Class Variable** and therefore the value of pay_raise for all employees = 1.1\n",
    "* **emp_1.pay_raise** is an **Instance Variable** and therefore the value of pay_raise for emp_1 = 1.2\n",
    "\n",
    "\n",
    "### ==> In the code snippet below:\n",
    "* **Example_1:** Using **Class Variable** i.e. **Employee.pay_raise** in the **apply_raise** function, the pay_raise of all employees become equal\n",
    "* **Example_2:** Using **Instance Variable** i.e. **self.pay_raise** in the **apply_raise** function, the pay_raise of emp_1 becomes different"
   ]
  },
  {
   "cell_type": "code",
   "execution_count": 7,
   "id": "b0241bfa",
   "metadata": {},
   "outputs": [
    {
     "name": "stdout",
     "output_type": "stream",
     "text": [
      "Employee_1 Initaial Salary: 50000\n",
      "Employee_2 Initaial Salary: 50000\n",
      "Employee_3 Initaial Salary: 50000\n",
      "\n",
      "Employee_1 Salary Now: 55000.00000000001\n",
      "Employee_2 Salary Now: 55000.00000000001\n",
      "Employee_3 Salary Now: 55000.00000000001\n"
     ]
    }
   ],
   "source": [
    "## Example_1\n",
    "\n",
    "# Creating Class\n",
    "class Employee:\n",
    "    \n",
    "    pay_raise = 1.05\n",
    "    \n",
    "    def __init__(self, first, last, pay):\n",
    "        self.first = first\n",
    "        self.last  = last\n",
    "        self.pay   = pay\n",
    "                \n",
    "    def apply_raise(self):\n",
    "        self.pay = self.pay * Employee.pay_raise ## Using Class Variable [emp_1.pay_raise = 2 will have no effect]\n",
    "    \n",
    "\n",
    "# Creating Objects\n",
    "emp_1 = Employee(\"Nikhil\", \"Dubey\", 50000)  \n",
    "emp_2 = Employee(\"Yatharth\", \"Raman\", 50000)\n",
    "emp_3 = Employee(\"Vasisth\", \"Singh\", 50000)\n",
    "\n",
    "\n",
    "# Class Variable\n",
    "Employee.pay_raise = 1.1\n",
    "\n",
    "# Instance Variable\n",
    "emp_1.pay_raise = 1.2 ## No Effect since Class Variable is used\n",
    "\n",
    "\n",
    "# Calling the Object\n",
    "print(\"Employee_1 Initaial Salary:\", emp_1.pay)\n",
    "print(\"Employee_2 Initaial Salary:\", emp_2.pay)\n",
    "print(\"Employee_3 Initaial Salary:\", emp_3.pay)\n",
    "print()\n",
    "\n",
    "## Calling the Class Function again for change in o/p\n",
    "emp_1.apply_raise()\n",
    "emp_2.apply_raise()\n",
    "emp_3.apply_raise()\n",
    "\n",
    "# Calling the Object\n",
    "print(\"Employee_1 Salary Now:\", emp_1.pay)\n",
    "print(\"Employee_2 Salary Now:\", emp_2.pay)\n",
    "print(\"Employee_3 Salary Now:\", emp_3.pay)"
   ]
  },
  {
   "cell_type": "code",
   "execution_count": 8,
   "id": "447bf731",
   "metadata": {},
   "outputs": [
    {
     "name": "stdout",
     "output_type": "stream",
     "text": [
      "Employee_1 Initaial Salary: 50000\n",
      "Employee_2 Initaial Salary: 50000\n",
      "Employee_3 Initaial Salary: 50000\n",
      "\n",
      "Employee_1 Salary Now: 60000.0\n",
      "Employee_2 Salary Now: 55000.00000000001\n",
      "Employee_3 Salary Now: 55000.00000000001\n"
     ]
    }
   ],
   "source": [
    "## Example_2\n",
    "\n",
    "# Creating Class\n",
    "class Employee:\n",
    "    \n",
    "    pay_raise = 1.05\n",
    "    \n",
    "    def __init__(self, first, last, pay):\n",
    "        self.first = first\n",
    "        self.last  = last\n",
    "        self.pay   = pay\n",
    "                \n",
    "    def apply_raise(self):\n",
    "        self.pay = self.pay * self.pay_raise ## Using Instance Variable [emp_1.pay_raise = 2 will make diff]\n",
    "    \n",
    "\n",
    "# Creating Objects\n",
    "emp_1 = Employee(\"Nikhil\", \"Dubey\", 50000)  \n",
    "emp_2 = Employee(\"Yatharth\", \"Raman\", 50000)\n",
    "emp_3 = Employee(\"Vasisth\", \"Singh\", 50000)\n",
    "\n",
    "\n",
    "# Class Variable\n",
    "Employee.pay_raise = 1.1\n",
    "\n",
    "# Instance Variable\n",
    "emp_1.pay_raise = 1.2 ## Makes diff since Instance Variable used\n",
    "\n",
    "\n",
    "# Calling the Object\n",
    "print(\"Employee_1 Initaial Salary:\", emp_1.pay)\n",
    "print(\"Employee_2 Initaial Salary:\", emp_2.pay)\n",
    "print(\"Employee_3 Initaial Salary:\", emp_3.pay)\n",
    "print()\n",
    "\n",
    "## Calling the Class Function again for change in o/p\n",
    "emp_1.apply_raise()\n",
    "emp_2.apply_raise()\n",
    "emp_3.apply_raise()\n",
    "\n",
    "# Calling the Object\n",
    "print(\"Employee_1 Salary Now:\", emp_1.pay)\n",
    "print(\"Employee_2 Salary Now:\", emp_2.pay)\n",
    "print(\"Employee_3 Salary Now:\", emp_3.pay)"
   ]
  }
 ],
 "metadata": {
  "kernelspec": {
   "display_name": "Python 3 (ipykernel)",
   "language": "python",
   "name": "python3"
  },
  "language_info": {
   "codemirror_mode": {
    "name": "ipython",
    "version": 3
   },
   "file_extension": ".py",
   "mimetype": "text/x-python",
   "name": "python",
   "nbconvert_exporter": "python",
   "pygments_lexer": "ipython3",
   "version": "3.9.7"
  }
 },
 "nbformat": 4,
 "nbformat_minor": 5
}
