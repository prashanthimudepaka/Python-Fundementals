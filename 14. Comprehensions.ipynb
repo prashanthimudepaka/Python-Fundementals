{
 "cells": [
  {
   "cell_type": "markdown",
   "id": "487fd69c",
   "metadata": {},
   "source": [
    "## 4) Comprehensions\n",
    "\n",
    "1. List Comprehension\n",
    "2. Dictionary Comprehension\n",
    "\n",
    "### 1. List Comprehension\n",
    "Example ==> Get the list of nos divisible by 15"
   ]
  },
  {
   "cell_type": "code",
   "execution_count": 1,
   "id": "10d06793",
   "metadata": {},
   "outputs": [
    {
     "name": "stdout",
     "output_type": "stream",
     "text": [
      "[45, 60, 105]\n"
     ]
    }
   ],
   "source": [
    "## Normal Loop \n",
    "\n",
    "num_list = [45, 55, 60, 37, 100, 105, 220]\n",
    "result = []\n",
    "\n",
    "for i in num_list:\n",
    "    if i%15 == 0:\n",
    "        result.append(i)\n",
    "    else:\n",
    "        continue\n",
    "        \n",
    "print(result)"
   ]
  },
  {
   "cell_type": "code",
   "execution_count": 2,
   "id": "07ccbf53",
   "metadata": {},
   "outputs": [
    {
     "name": "stdout",
     "output_type": "stream",
     "text": [
      "[45, 60, 105]\n"
     ]
    }
   ],
   "source": [
    "# List Comprehension\n",
    "\n",
    "num_list = [45, 55, 60, 37, 100, 105, 220]\n",
    "\n",
    "result = [i for i in num_list if i%15 == 0]\n",
    "print(result)"
   ]
  },
  {
   "cell_type": "code",
   "execution_count": 3,
   "id": "46d331b5",
   "metadata": {},
   "outputs": [
    {
     "name": "stdout",
     "output_type": "stream",
     "text": [
      "[('a', 0), ('a', 1), ('b', 0), ('b', 1), ('c', 0), ('c', 1)]\n"
     ]
    }
   ],
   "source": [
    "# Nested List Comprehension\n",
    "## Print a (letter,number) pair for each letters in \"abc\" and each numbers in 0,1\n",
    "\n",
    "li = [(i,j) for i in \"abc\" for j in range(2)]\n",
    "print(li)"
   ]
  },
  {
   "cell_type": "markdown",
   "id": "9d2b5d12",
   "metadata": {},
   "source": [
    "### 2. Dictionary Comprehension\n",
    "Example ==> Get the dictionary of odd numbers that are present in the given list as keys and their cubes as values"
   ]
  },
  {
   "cell_type": "code",
   "execution_count": 4,
   "id": "8101ce18",
   "metadata": {},
   "outputs": [
    {
     "name": "stdout",
     "output_type": "stream",
     "text": [
      "{1: 1, 3: 27, 5: 125}\n"
     ]
    }
   ],
   "source": [
    "## Normal Loop\n",
    "\n",
    "num_list = [1, 2, 3, 4, 5, 6] \n",
    "result = {}\n",
    "\n",
    "for i in num_list:\n",
    "    if i%2 != 0:\n",
    "        result[i] = i**3\n",
    "        \n",
    "print(result)"
   ]
  },
  {
   "cell_type": "code",
   "execution_count": 5,
   "id": "ab793bc4",
   "metadata": {},
   "outputs": [
    {
     "name": "stdout",
     "output_type": "stream",
     "text": [
      "{1: 1, 3: 27, 5: 125}\n"
     ]
    }
   ],
   "source": [
    "# Dictionary Comprehension\n",
    "\n",
    "num_list = [1, 2, 3, 4, 5, 6] \n",
    "result = {i:i**3 for i in num_list if i%2 != 0}\n",
    "\n",
    "print(result)"
   ]
  },
  {
   "cell_type": "code",
   "execution_count": 6,
   "id": "29faea2a",
   "metadata": {},
   "outputs": [
    {
     "name": "stdout",
     "output_type": "stream",
     "text": [
      "{'Batman': 'Bruce', 'Spiderman': 'Peter', 'Wolverine': 'Logan'}\n"
     ]
    }
   ],
   "source": [
    "# Concatenating 2 lists using Dictionary Comprehension\n",
    "\n",
    "heros = [\"Batman\", \"Spiderman\", \"Wolverine\"]\n",
    "names = [\"Bruce\", \"Peter\",\"Logan\"]\n",
    "\n",
    "print({i:j for i,j in zip(heros, names)})"
   ]
  }
 ],
 "metadata": {
  "kernelspec": {
   "display_name": "Python 3 (ipykernel)",
   "language": "python",
   "name": "python3"
  },
  "language_info": {
   "codemirror_mode": {
    "name": "ipython",
    "version": 3
   },
   "file_extension": ".py",
   "mimetype": "text/x-python",
   "name": "python",
   "nbconvert_exporter": "python",
   "pygments_lexer": "ipython3",
   "version": "3.9.7"
  }
 },
 "nbformat": 4,
 "nbformat_minor": 5
}
