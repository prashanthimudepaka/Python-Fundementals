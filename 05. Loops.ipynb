{
 "cells": [
  {
   "cell_type": "markdown",
   "id": "91fbbea7",
   "metadata": {},
   "source": [
    "# There are 2 type of loops:\n",
    "* **For loop**\n",
    "* **While loop**\n",
    "\n",
    "## 1. For Loop"
   ]
  },
  {
   "cell_type": "code",
   "execution_count": 1,
   "id": "bb3cdf01",
   "metadata": {},
   "outputs": [
    {
     "name": "stdout",
     "output_type": "stream",
     "text": [
      "Delhi\n",
      "Mumbai\n",
      "Kolkata\n",
      "Bangalore\n",
      "Chennai\n"
     ]
    }
   ],
   "source": [
    "city = ['Delhi','Mumbai','Kolkata','Bangalore','Chennai']\n",
    "\n",
    "for i in city:\n",
    "    print(i)"
   ]
  },
  {
   "cell_type": "code",
   "execution_count": 2,
   "id": "0f5fe5b7",
   "metadata": {},
   "outputs": [
    {
     "name": "stdout",
     "output_type": "stream",
     "text": [
      "Delhi\n",
      "Mumbai\n",
      "Kolkata\n",
      "Bangalore\n",
      "Chennai\n"
     ]
    }
   ],
   "source": [
    "# Aliter\n",
    "for i in range(len(city)):\n",
    "    print(city[i])"
   ]
  },
  {
   "cell_type": "code",
   "execution_count": 3,
   "id": "7b56edc9",
   "metadata": {},
   "outputs": [
    {
     "name": "stdout",
     "output_type": "stream",
     "text": [
      "1 a\n",
      "1 b\n",
      "2 a\n",
      "2 b\n"
     ]
    }
   ],
   "source": [
    "# Nested For Loop\n",
    "\n",
    "num = [1,2]\n",
    "alpha = [\"a\",\"b\"]\n",
    "\n",
    "for i in num:\n",
    "    for j in alpha:\n",
    "        print(i,j)"
   ]
  },
  {
   "cell_type": "markdown",
   "id": "bd13772e",
   "metadata": {},
   "source": [
    "## 2. While Loop"
   ]
  },
  {
   "cell_type": "code",
   "execution_count": 4,
   "id": "82578898",
   "metadata": {},
   "outputs": [
    {
     "name": "stdout",
     "output_type": "stream",
     "text": [
      "1\n",
      "2\n",
      "3\n"
     ]
    }
   ],
   "source": [
    "a = 1\n",
    "while a < 4:\n",
    "    print(a)\n",
    "    a += 1"
   ]
  },
  {
   "cell_type": "markdown",
   "id": "11da12c8",
   "metadata": {},
   "source": [
    "## 3. Break vs Continue"
   ]
  },
  {
   "cell_type": "code",
   "execution_count": 5,
   "id": "507225cc",
   "metadata": {},
   "outputs": [
    {
     "name": "stdout",
     "output_type": "stream",
     "text": [
      "0\n",
      "1\n",
      "2\n"
     ]
    }
   ],
   "source": [
    "## Break: Breaks sequence when condition is met\n",
    "\n",
    "for i in range(5):\n",
    "    if i == 3: \n",
    "        break\n",
    "    print(i)"
   ]
  },
  {
   "cell_type": "code",
   "execution_count": 6,
   "id": "bec4285f",
   "metadata": {},
   "outputs": [
    {
     "name": "stdout",
     "output_type": "stream",
     "text": [
      "0\n",
      "1\n",
      "2\n",
      "4\n"
     ]
    }
   ],
   "source": [
    "## Continue: Skips the element where condition is met\n",
    "\n",
    "for i in range(5):\n",
    "    if i == 3: \n",
    "        continue\n",
    "    print(i)"
   ]
  },
  {
   "cell_type": "markdown",
   "id": "0e1a8723",
   "metadata": {},
   "source": [
    "## 4. Concept of Range\n",
    "Syntax ==> for i in range(start,stop,gap)"
   ]
  },
  {
   "cell_type": "code",
   "execution_count": 7,
   "id": "56ba3247",
   "metadata": {},
   "outputs": [
    {
     "name": "stdout",
     "output_type": "stream",
     "text": [
      "2\n",
      "4\n",
      "6\n",
      "8\n"
     ]
    }
   ],
   "source": [
    "for i in range(2,10,2):\n",
    "    print(i)"
   ]
  },
  {
   "cell_type": "code",
   "execution_count": 8,
   "id": "281872ab",
   "metadata": {},
   "outputs": [
    {
     "name": "stdout",
     "output_type": "stream",
     "text": [
      "2\n",
      "3\n",
      "4\n"
     ]
    }
   ],
   "source": [
    "for i in range(2,5):\n",
    "    print(i)"
   ]
  },
  {
   "cell_type": "code",
   "execution_count": 9,
   "id": "c0a72c45",
   "metadata": {},
   "outputs": [
    {
     "name": "stdout",
     "output_type": "stream",
     "text": [
      "0\n",
      "1\n",
      "2\n",
      "3\n",
      "4\n"
     ]
    }
   ],
   "source": [
    "for i in range(5):\n",
    "    print(i)"
   ]
  }
 ],
 "metadata": {
  "kernelspec": {
   "display_name": "Python 3 (ipykernel)",
   "language": "python",
   "name": "python3"
  },
  "language_info": {
   "codemirror_mode": {
    "name": "ipython",
    "version": 3
   },
   "file_extension": ".py",
   "mimetype": "text/x-python",
   "name": "python",
   "nbconvert_exporter": "python",
   "pygments_lexer": "ipython3",
   "version": "3.9.7"
  }
 },
 "nbformat": 4,
 "nbformat_minor": 5
}
