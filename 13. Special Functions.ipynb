{
 "cells": [
  {
   "cell_type": "markdown",
   "id": "15632abc",
   "metadata": {},
   "source": [
    "## 3) Special Functions\n",
    "\n",
    "1. Filter\n",
    "2. Map\n",
    "3. Reduce\n",
    "4. Zip\n",
    "\n",
    "### 1. Filter Function\n",
    "* Filters functions out of a sequence\n",
    "* Returns the filtered list\n",
    "* Mostly used with lambda functions\n",
    "* **Syntax** ==> **filter**(function, iterable)"
   ]
  },
  {
   "cell_type": "code",
   "execution_count": 1,
   "id": "d1ea5a37",
   "metadata": {},
   "outputs": [
    {
     "name": "stdout",
     "output_type": "stream",
     "text": [
      "[45, 60, 105]\n"
     ]
    }
   ],
   "source": [
    "# Example ==> Get the list of nos divisible by 15\n",
    "\n",
    "num_list = [45, 55, 60, 37, 100, 105, 220]\n",
    "\n",
    "a = lambda x: (x % 15 == 0)\n",
    "\n",
    "# Using Filter\n",
    "result = list(filter(a, num_list))\n",
    "print(result)"
   ]
  },
  {
   "cell_type": "markdown",
   "id": "8b95e919",
   "metadata": {},
   "source": [
    "### 2. Map Function\n",
    "* Apply same function to each element of a sequence\n",
    "* **Syntax** ==> **map**(function, iterable)"
   ]
  },
  {
   "cell_type": "code",
   "execution_count": 2,
   "id": "93e82f85",
   "metadata": {},
   "outputs": [
    {
     "name": "stdout",
     "output_type": "stream",
     "text": [
      "[4, 9, 16, 25, 36, 49]\n"
     ]
    }
   ],
   "source": [
    "# Example ==> Get the squares of each number from the list\n",
    "\n",
    "num_list = [2, 3, 4, 5, 6, 7]\n",
    "\n",
    "a = lambda x: x**2\n",
    "\n",
    "# Using Map\n",
    "result = list(map(a, num_list))\n",
    "print(result)"
   ]
  },
  {
   "cell_type": "markdown",
   "id": "4563af42",
   "metadata": {},
   "source": [
    "### 3. Reduce Function\n",
    "* Applies a rolling computation to **Sequential Pairs**                                                                  \n",
    "* **Syntax** ==> **reduce**(function, iterable)"
   ]
  },
  {
   "cell_type": "code",
   "execution_count": 3,
   "id": "7ef30623",
   "metadata": {},
   "outputs": [
    {
     "name": "stdout",
     "output_type": "stream",
     "text": [
      "45\n"
     ]
    }
   ],
   "source": [
    "## The following program adds 1+2+3+...+9 = 45\n",
    "\n",
    "a = lambda x,y: x+y\n",
    "\n",
    "# Using Reduce\n",
    "from functools import reduce\n",
    "result = reduce(a, range(1,10))\n",
    "print(result)"
   ]
  },
  {
   "cell_type": "markdown",
   "id": "0d4fab20",
   "metadata": {},
   "source": [
    "### 4. Zip Function\n",
    "* **Zip** function returns a zip object, which is an iterator of tuples\n",
    "* The first item in each passed iterator is paired together, the second item in each passed iterator are paired together etc...\n",
    "* **Unzip** does the reverse, i.e. divides a zipped list into 2 independent lists\n",
    "* **Syntax for Zip** ==> **zip**(list1, list2)\n",
    "* **Syntax for Unzip** ==> **zip**(*zipped_list)"
   ]
  },
  {
   "cell_type": "code",
   "execution_count": 4,
   "id": "9a4b04cc",
   "metadata": {},
   "outputs": [
    {
     "name": "stdout",
     "output_type": "stream",
     "text": [
      "[('Rohan', 67), ('Amita', 34), ('Shushant', 78), ('Pawan', 85), ('Kiran', 65)]\n"
     ]
    }
   ],
   "source": [
    "# Zip\n",
    "## Example ==> Aggregate the names of the students and their corresponding marks  \n",
    "\n",
    "names = ['Rohan', 'Amita', 'Shushant', 'Pawan', 'Kiran']\n",
    "marks = [67, 34, 78, 85, 65]\n",
    "\n",
    "zipped = zip(names, marks)\n",
    "zipped_list = list(zipped)\n",
    "\n",
    "print(zipped_list)"
   ]
  },
  {
   "cell_type": "code",
   "execution_count": 5,
   "id": "a56cace0",
   "metadata": {},
   "outputs": [
    {
     "name": "stdout",
     "output_type": "stream",
     "text": [
      "['Rohan', 'Amita', 'Shushant', 'Pawan', 'Kiran']\n",
      "[67, 34, 78, 85, 65]\n"
     ]
    }
   ],
   "source": [
    "# Unzip\n",
    "names, marks = zip(*zipped_list)\n",
    "names_list = list(names)\n",
    "marks_list = list(marks)\n",
    "\n",
    "print(names_list)\n",
    "print(marks_list)"
   ]
  }
 ],
 "metadata": {
  "kernelspec": {
   "display_name": "Python 3 (ipykernel)",
   "language": "python",
   "name": "python3"
  },
  "language_info": {
   "codemirror_mode": {
    "name": "ipython",
    "version": 3
   },
   "file_extension": ".py",
   "mimetype": "text/x-python",
   "name": "python",
   "nbconvert_exporter": "python",
   "pygments_lexer": "ipython3",
   "version": "3.9.7"
  }
 },
 "nbformat": 4,
 "nbformat_minor": 5
}
