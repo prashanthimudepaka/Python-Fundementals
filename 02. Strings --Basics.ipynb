{
 "cells": [
  {
   "cell_type": "markdown",
   "id": "b090c3a5",
   "metadata": {},
   "source": [
    "## 1. Basics"
   ]
  },
  {
   "cell_type": "code",
   "execution_count": 1,
   "id": "da15ab4b",
   "metadata": {},
   "outputs": [
    {
     "name": "stdout",
     "output_type": "stream",
     "text": [
      "This is a String\n",
      "\n",
      "This is a String\n",
      "\n",
      "This is a multiline string.\n",
      "It is contained within triple quotes.\n"
     ]
    }
   ],
   "source": [
    "# String using Double-quote\n",
    "s1 = \"This is a String\"\n",
    "print(s1)\n",
    "print()\n",
    "\n",
    "# String using Single-quote\n",
    "s2 = 'This is a String'\n",
    "print(s2)\n",
    "print()\n",
    "\n",
    "# Multiline String\n",
    "s3 = \"\"\"This is a multiline string.\n",
    "It is contained within triple quotes.\"\"\"\n",
    "print(s3)"
   ]
  },
  {
   "cell_type": "markdown",
   "id": "e42b86c5",
   "metadata": {},
   "source": [
    "## 2. Formatting Techniques in Strings\n",
    "* .format() Method\n",
    "* f Strings Method"
   ]
  },
  {
   "cell_type": "markdown",
   "id": "356c8b0b",
   "metadata": {},
   "source": [
    "## ==> .format() Method"
   ]
  },
  {
   "cell_type": "code",
   "execution_count": 2,
   "id": "425c552f",
   "metadata": {},
   "outputs": [
    {
     "name": "stdout",
     "output_type": "stream",
     "text": [
      "John is 23 years old\n",
      "John's height is 175.5\n"
     ]
    }
   ],
   "source": [
    "name = \"John\"\n",
    "age = 23\n",
    "height = 175.5\n",
    "\n",
    "print(\"{} is {} years old\".format(name,age))\n",
    "print(\"{}'s height is {}\" .format(name,height))"
   ]
  },
  {
   "cell_type": "code",
   "execution_count": 3,
   "id": "d18f2e7d",
   "metadata": {},
   "outputs": [
    {
     "name": "stdout",
     "output_type": "stream",
     "text": [
      "John is 23 years old and John's height is 175.5\n"
     ]
    }
   ],
   "source": [
    "# Application of format method in a different way\n",
    "# This is used in case of repetition of variables\n",
    "\n",
    "name = \"John\"\n",
    "age = 23\n",
    "height = 175.5\n",
    "print(\"{a} is {b} years old and {a}'s height is {c}\".format(a = name, b = age, c = height))"
   ]
  },
  {
   "cell_type": "markdown",
   "id": "229256f7",
   "metadata": {},
   "source": [
    "## ==> f Strings Method"
   ]
  },
  {
   "cell_type": "code",
   "execution_count": 4,
   "id": "6e3eea3f",
   "metadata": {},
   "outputs": [
    {
     "name": "stdout",
     "output_type": "stream",
     "text": [
      "John is 23 years old and JOHN's height is 175.5\n"
     ]
    }
   ],
   "source": [
    "# Same concept using f_Strings\n",
    "\n",
    "name = \"John\"\n",
    "age = 23\n",
    "height = 175.5\n",
    "print(f\"{name} is {age} years old and {name.upper()}'s height is {height}\") # We can change variable format inside f_string"
   ]
  },
  {
   "cell_type": "markdown",
   "id": "77131b7b",
   "metadata": {},
   "source": [
    "## 3. User Input and Print"
   ]
  },
  {
   "cell_type": "code",
   "execution_count": 5,
   "id": "b3b76328",
   "metadata": {},
   "outputs": [
    {
     "name": "stdout",
     "output_type": "stream",
     "text": [
      "Enter your name: Purbayan\n",
      "Enter your age: 26\n",
      "My name is Purbayan and I am 26 years old\n"
     ]
    }
   ],
   "source": [
    "name = input(\"Enter your name: \")\n",
    "age = int(input(\"Enter your age: \"))\n",
    "print(f\"My name is {name} and I am {age} years old\")"
   ]
  }
 ],
 "metadata": {
  "kernelspec": {
   "display_name": "Python 3 (ipykernel)",
   "language": "python",
   "name": "python3"
  },
  "language_info": {
   "codemirror_mode": {
    "name": "ipython",
    "version": 3
   },
   "file_extension": ".py",
   "mimetype": "text/x-python",
   "name": "python",
   "nbconvert_exporter": "python",
   "pygments_lexer": "ipython3",
   "version": "3.9.7"
  }
 },
 "nbformat": 4,
 "nbformat_minor": 5
}
